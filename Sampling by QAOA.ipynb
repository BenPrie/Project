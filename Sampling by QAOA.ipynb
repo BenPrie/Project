{
 "cells": [
  {
   "cell_type": "code",
   "execution_count": 9,
   "id": "initial_id",
   "metadata": {
    "collapsed": true,
    "ExecuteTime": {
     "end_time": "2023-12-04T03:11:03.617168200Z",
     "start_time": "2023-12-04T03:11:03.586397300Z"
    }
   },
   "outputs": [],
   "source": [
    "# Imports as always\n",
    "import numpy as np\n",
    "import sympy\n",
    "import cirq\n",
    "import qsimcirq\n",
    "from scipy.optimize import minimize\n",
    "\n",
    "from sqif_algorithm import SQIF"
   ]
  },
  {
   "cell_type": "code",
   "execution_count": 5,
   "outputs": [],
   "source": [
    "# Instantiate an algorithm instance.\n",
    "solver = SQIF(1997)\n",
    "\n",
    "# Generate the CVP.\n",
    "B, t = solver.generate_CVP(c=1.5)\n",
    "\n",
    "# Classical approximation to the CVP.\n",
    "B, t, D, b_op, residual_vector, step_signs = solver.find_b_op(B, t)\n",
    "\n",
    "# Define the Hamiltonian according to the unit hypercube search problem around the approximate solution.\n",
    "H = solver.define_hamiltonian(D, residual_vector, step_signs)"
   ],
   "metadata": {
    "collapsed": false,
    "ExecuteTime": {
     "end_time": "2023-12-04T03:07:33.926725900Z",
     "start_time": "2023-12-04T03:07:33.916812400Z"
    }
   },
   "id": "679d2a20f7ff52a"
  },
  {
   "cell_type": "code",
   "execution_count": 12,
   "outputs": [
    {
     "data": {
      "text/plain": "                              ┌────────────────────────────────┐\n0: ───H───ZZ───────────────────ZZ──────────────────────────────────Z^(-1.5*gamma_0)──────────────────────X^beta_0───\n          │                    │\n1: ───H───ZZ^(-4.0*gamma_0)────┼───────────────Z^(-3.5*gamma_0)───────────────────────ZZ─────────────────X^beta_0───\n                               │                                                      │\n2: ───H────────────────────────ZZ^(2.5*gamma_0)────────────────────Z^(-4.0*gamma_0)───ZZ^(3.0*gamma_0)───X^beta_0───\n                              └────────────────────────────────┘",
      "text/html": "<pre style=\"overflow: auto; white-space: pre;\">                              ┌────────────────────────────────┐\n0: ───H───ZZ───────────────────ZZ──────────────────────────────────Z^(-1.5*gamma_0)──────────────────────X^beta_0───\n          │                    │\n1: ───H───ZZ^(-4.0*gamma_0)────┼───────────────Z^(-3.5*gamma_0)───────────────────────ZZ─────────────────X^beta_0───\n                               │                                                      │\n2: ───H────────────────────────ZZ^(2.5*gamma_0)────────────────────Z^(-4.0*gamma_0)───ZZ^(3.0*gamma_0)───X^beta_0───\n                              └────────────────────────────────┘</pre>"
     },
     "metadata": {},
     "output_type": "display_data"
    }
   ],
   "source": [
    "# Building the circuit.\n",
    "p = 1\n",
    "\n",
    "# Get references to the qubits used in the Hamiltonian's definition.\n",
    "qubits = H.qubits\n",
    "\n",
    "# Sub-circuit implementing the gamma unitary operator for the i-th layer.\n",
    "def generate_gamma_operator(i):\n",
    "    # Define the gamma symbol (as a placeholder).\n",
    "    gamma = sympy.Symbol(f'gamma_{i}')\n",
    "    \n",
    "    # Define the Pauli operators as dense Pauli strings (for recognising terms).\n",
    "    Z = cirq.DensePauliString('Z')\n",
    "    ZZ = cirq.DensePauliString('ZZ')\n",
    "    I = cirq.DensePauliString('')\n",
    "    \n",
    "    # Consider each term in the Hamiltonian.\n",
    "    for term in H:\n",
    "        # Get the term's operator.\n",
    "        term_operator = term.with_coefficient(1).gate\n",
    "        \n",
    "        # Determine which circuit translation to make, based on which operator this term has.\n",
    "        if term_operator == Z:\n",
    "            yield cirq.Z(*term.qubits) ** (gamma * term.coefficient)\n",
    "        elif term_operator == ZZ:\n",
    "            yield cirq.ZZ(*term.qubits) ** (gamma * term.coefficient)\n",
    "        elif term_operator == I:\n",
    "            yield []\n",
    "            \n",
    "        # If the term's operator is unrecognised, the Hamiltonian isn't quite right.\n",
    "        else:\n",
    "            raise Exception(f'Unrecognised term in H: {term}')\n",
    "        \n",
    "# Sub-circuit implementing the beta unitary (\"mixing\") operator for the i-th layer.\n",
    "def generate_beta_operator(i):\n",
    "    # Define the beta symbol (as a placeholder).\n",
    "    beta = sympy.Symbol(f'beta_{i}')\n",
    "    \n",
    "    return [cirq.X(q) ** beta for q in qubits]\n",
    "\n",
    "# Generate the circuit for QAOA.\n",
    "qaoa_circuit = cirq.Circuit(\n",
    "    # Preparation of uniform superposition.\n",
    "    cirq.H.on_each(*qubits),\n",
    "    \n",
    "    # p layers of repeated U(gamma, H) and U(beta, B) operations.\n",
    "    [(generate_gamma_operator(i), cirq.Moment(generate_beta_operator(i)),) for i in range(p)],\n",
    ")\n",
    "\n",
    "display(qaoa_circuit)"
   ],
   "metadata": {
    "collapsed": false,
    "ExecuteTime": {
     "end_time": "2023-12-04T03:11:49.911108900Z",
     "start_time": "2023-12-04T03:11:49.854293100Z"
    }
   },
   "id": "d8bcb22621817e20"
  },
  {
   "cell_type": "code",
   "execution_count": 13,
   "outputs": [
    {
     "data": {
      "text/plain": "  message: Optimization terminated successfully.\n  success: True\n   status: 0\n      fun: 43.5\n        x: [ 0.000e+00  0.000e+00]\n      nit: 0\n      jac: [ 0.000e+00  0.000e+00]\n hess_inv: [[1 0]\n            [0 1]]\n     nfev: 3\n     njev: 1"
     },
     "metadata": {},
     "output_type": "display_data"
    },
    {
     "name": "stdout",
     "output_type": "stream",
     "text": [
      "\n",
      "Optimal parameters: cirq.ParamResolver({'beta_0': 0.0, 'gamma_0': 0.0})\n"
     ]
    }
   ],
   "source": [
    "# Finding the optimal parameters for the circuit.\n",
    "\n",
    "# Get the parameters and observables out of the circuit.\n",
    "parameter_names = sorted(cirq.parameter_names(qaoa_circuit))\n",
    "observables = [term.with_coefficient(1) for term in H]\n",
    "\n",
    "# Define the function to minimise.\n",
    "def func_to_minimise(x):\n",
    "    # Define a \"parameter resolver\" object, which we can use to assign values to parameters.\n",
    "    parameter_resolver = cirq.ParamResolver(\n",
    "        # Map each parameter to a value (i.e. assign the circuit's parameters).\n",
    "        {parameter: value for parameter, value in zip(parameter_names, x)}\n",
    "    )\n",
    "    \n",
    "    # Define a circuit simulator.\n",
    "    simulator = qsimcirq.QSimSimulator(\n",
    "        # Pass in some options for the simulator object -- this needs another object, it seems.\n",
    "        qsimcirq.QSimOptions(\n",
    "             # Cannot use GPU without compiling qsim locally -- maybe another time.\n",
    "             use_gpu=False,\n",
    "             # My PC has 8 cores, so set 8 threads.\n",
    "             cpu_threads=8,\n",
    "             verbosity=0\n",
    "        )\n",
    "    )\n",
    "    \n",
    "    # Simulate the expectation value.\n",
    "    expectation = simulator.simulate_expectation_values(\n",
    "        program=qaoa_circuit, observables=observables, param_resolver=parameter_resolver\n",
    "    )\n",
    "    \n",
    "    # Compute the return.\n",
    "    return sum(term.coefficient * value for term, value in zip(H, expectation)).real\n",
    "\n",
    "# Let our initial guess be all zeros -- we don't know any better.\n",
    "x_initial = np.asarray([.0] * len(parameter_names))\n",
    "\n",
    "# Find the parameters values that minimise the expectation value.\n",
    "optimal_parameter_values = minimize(func_to_minimise, x_initial, method='BFGS')\n",
    "display(optimal_parameter_values)\n",
    "\n",
    "# Stick the parameter values in a parameter resolver object.\n",
    "optimal_parameters = cirq.ParamResolver(\n",
    "    {parameter: value for parameter, value in zip(parameter_names, optimal_parameter_values.x)}\n",
    ")\n",
    "print(f'\\nOptimal parameters: {optimal_parameters}')"
   ],
   "metadata": {
    "collapsed": false,
    "ExecuteTime": {
     "end_time": "2023-12-04T03:11:54.867079600Z",
     "start_time": "2023-12-04T03:11:54.813856900Z"
    }
   },
   "id": "17e222883e7f68e3"
  },
  {
   "cell_type": "code",
   "execution_count": 14,
   "outputs": [
    {
     "name": "stdout",
     "output_type": "stream",
     "text": [
      "Top three measurements (solution, frequency): [(7, 1302), (2, 1295), (4, 1285)]\n"
     ]
    }
   ],
   "source": [
    "# Sample solutions several times from the circuit with these optimal parameters.\n",
    "runs = 10000\n",
    "\n",
    "# Define a circuit simulator.\n",
    "simulator = qsimcirq.QSimSimulator(\n",
    "    qsimcirq.QSimOptions(\n",
    "         use_gpu=False,\n",
    "         cpu_threads=8,\n",
    "         verbosity=0\n",
    "    )\n",
    ")\n",
    "\n",
    "# Add a measurement operator at the very end (across all qubits).\n",
    "qaoa_circuit_with_measurement = qaoa_circuit + cirq.Circuit(cirq.measure(H.qubits, key='m'))\n",
    "\n",
    "# Run the circuit a bunch.\n",
    "measurement_outcomes = simulator.run(\n",
    "    qaoa_circuit_with_measurement, param_resolver=optimal_parameters, repetitions=runs\n",
    ")\n",
    "\n",
    "# Save the results into a histogram-like dictionary.\n",
    "results = measurement_outcomes.histogram(key='m')\n",
    "print(f'Top three measurements (solution, frequency): {results.most_common(3)}')\n",
    "\n",
    "# Pull out the solutions and their frequency in the simulation measurements, in descending order.\n",
    "solutions, frequencies = zip(*results.most_common(len(results)))"
   ],
   "metadata": {
    "collapsed": false,
    "ExecuteTime": {
     "end_time": "2023-12-04T03:12:10.935190400Z",
     "start_time": "2023-12-04T03:12:10.890995400Z"
    }
   },
   "id": "dac46147c06ae53f"
  }
 ],
 "metadata": {
  "kernelspec": {
   "display_name": "Python 3",
   "language": "python",
   "name": "python3"
  },
  "language_info": {
   "codemirror_mode": {
    "name": "ipython",
    "version": 2
   },
   "file_extension": ".py",
   "mimetype": "text/x-python",
   "name": "python",
   "nbconvert_exporter": "python",
   "pygments_lexer": "ipython2",
   "version": "2.7.6"
  }
 },
 "nbformat": 4,
 "nbformat_minor": 5
}
