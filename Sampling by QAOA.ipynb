{
 "cells": [
  {
   "cell_type": "code",
   "execution_count": 1,
   "id": "initial_id",
   "metadata": {
    "collapsed": true,
    "ExecuteTime": {
     "end_time": "2023-12-06T00:25:43.695072800Z",
     "start_time": "2023-12-06T00:25:41.757862900Z"
    }
   },
   "outputs": [],
   "source": [
    "# Imports as always\n",
    "import numpy as np\n",
    "import sympy\n",
    "import cirq\n",
    "import qsimcirq\n",
    "from scipy.optimize import minimize\n",
    "\n",
    "from sqif_algorithm import SQIF"
   ]
  },
  {
   "cell_type": "code",
   "execution_count": 3,
   "outputs": [],
   "source": [
    "# Instantiate an algorithm instance.\n",
    "solver = SQIF(1997)\n",
    "\n",
    "# Generate the CVP.\n",
    "B, t = solver.generate_CVP(c=1.5)\n",
    "\n",
    "# Classical approximation to the CVP.\n",
    "B, t, D, w, b_op, residual_vector, step_signs = solver.find_b_op(B, t)\n",
    "\n",
    "# Define the Hamiltonian according to the unit hypercube search problem around the approximate solution.\n",
    "H = solver.define_hamiltonian(D, residual_vector, step_signs)"
   ],
   "metadata": {
    "collapsed": false,
    "ExecuteTime": {
     "end_time": "2023-12-06T00:25:47.195901500Z",
     "start_time": "2023-12-06T00:25:47.173376Z"
    }
   },
   "id": "679d2a20f7ff52a"
  },
  {
   "cell_type": "code",
   "execution_count": 4,
   "outputs": [
    {
     "name": "stdout",
     "output_type": "stream",
     "text": [
      "43.500 * I\n",
      "-4.000 * Z(q(0)) * Z(q(1))\n",
      "+2.500 * Z(q(0)) * Z(q(2))\n",
      "-3.500 * Z(q(1))\n",
      "-4.000 * Z(q(2))\n",
      "+3.000 * Z(q(1)) * Z(q(2))\n",
      "-1.500 * Z(q(0))\n"
     ]
    }
   ],
   "source": [
    "def pretty_print_hamiltonian(H):\n",
    "    string_H = str(H)\n",
    "    string_H = string_H.replace('+', '\\n+')\n",
    "    string_H = string_H.replace('-', '\\n-')\n",
    "    string_H = string_H.replace('*', ' * ')\n",
    "    print(string_H)\n",
    "    \n",
    "pretty_print_hamiltonian(H)"
   ],
   "metadata": {
    "collapsed": false,
    "ExecuteTime": {
     "end_time": "2023-12-06T00:25:48.674912700Z",
     "start_time": "2023-12-06T00:25:48.627910300Z"
    }
   },
   "id": "d94866b615c3db53"
  },
  {
   "cell_type": "code",
   "execution_count": 5,
   "outputs": [
    {
     "data": {
      "text/plain": "                              ┌────────────────────────────────┐\n0: ───H───ZZ───────────────────ZZ──────────────────────────────────Z^(-1.5*gamma_0)───X^beta_0──────────────────────\n          │                    │\n1: ───H───ZZ^(-4.0*gamma_0)────┼───────────────Z^(-3.5*gamma_0)───────────────────────ZZ─────────────────X^beta_0───\n                               │                                                      │\n2: ───H────────────────────────ZZ^(2.5*gamma_0)────────────────────Z^(-4.0*gamma_0)───ZZ^(3.0*gamma_0)───X^beta_0───\n                              └────────────────────────────────┘",
      "text/html": "<pre style=\"overflow: auto; white-space: pre;\">                              ┌────────────────────────────────┐\n0: ───H───ZZ───────────────────ZZ──────────────────────────────────Z^(-1.5*gamma_0)───X^beta_0──────────────────────\n          │                    │\n1: ───H───ZZ^(-4.0*gamma_0)────┼───────────────Z^(-3.5*gamma_0)───────────────────────ZZ─────────────────X^beta_0───\n                               │                                                      │\n2: ───H────────────────────────ZZ^(2.5*gamma_0)────────────────────Z^(-4.0*gamma_0)───ZZ^(3.0*gamma_0)───X^beta_0───\n                              └────────────────────────────────┘</pre>"
     },
     "execution_count": 5,
     "metadata": {},
     "output_type": "execute_result"
    }
   ],
   "source": [
    "def generate_gamma_layer(H, i):\n",
    "    \"\"\"\n",
    "    Generate the i-th gamma layer executing the unitary exp(-i * gamma * H).\n",
    "    \n",
    "    :param H: The Hamiltonian.\n",
    "    :param i: Layer index.\n",
    "    :return: [] of cirq.DensePauliString object corresponding to the i-th gamma layer in the QAOA circuit.\n",
    "    \"\"\"\n",
    "    \n",
    "    # Gamma symbol placeholder.\n",
    "    gamma = sympy.Symbol(f'gamma_{i}')\n",
    "    \n",
    "    # Instantiate the DensePauliString operators.\n",
    "    dense_I = cirq.DensePauliString('')\n",
    "    dense_Z = cirq.DensePauliString('Z')\n",
    "    dense_ZZ = cirq.DensePauliString('ZZ')\n",
    "    \n",
    "    # Consider the terms in the Hamiltonian.\n",
    "    for term in H:\n",
    "        # Split the term into its coefficient and operator.\n",
    "        coefficient = term.coefficient\n",
    "        operator = term.with_coefficient(1).gate\n",
    "        \n",
    "        # Map to the appropriate circuit element on the basis of the operator, parameterised by gamma.\n",
    "        if operator == dense_ZZ:\n",
    "            yield cirq.ZZ(*term.qubits) ** (gamma * coefficient)\n",
    "        elif operator == dense_Z:\n",
    "            yield cirq.Z(*term.qubits) ** (gamma * coefficient)\n",
    "        elif operator == dense_I:\n",
    "            yield []\n",
    "        else:\n",
    "            raise Exception(f'Unrecognised Pauli string term {term} in the Hamiltonian.')\n",
    "        \n",
    "        \n",
    "def generate_beta_layer(qubits, i):\n",
    "    \"\"\"\n",
    "    Generate the i-th beta layer, executing a Pauli-X raised to beta across the given qubits.\n",
    "    \n",
    "    :param qubits: The qubits in the circuit.\n",
    "    :param i: Layer index.\n",
    "    :return: [] of cirq.DensePauliString object corresponding to the i-th beta layer in the QAOA circuit.\n",
    "    \"\"\"\n",
    "    \n",
    "    # Beta symbol placeholder.\n",
    "    beta = sympy.Symbol(f'beta_{i}')\n",
    "    \n",
    "    # The layer is trivially defined by NOT gates parameterised by beta.\n",
    "    return [cirq.X(q) ** beta for q in qubits]\n",
    "\n",
    "\n",
    "def generate_qaoa_circuit(H, p=1):\n",
    "    \"\"\"\n",
    "    Generate a QAOA circuit for the given Hamiltonian with a given depth.\n",
    "    \n",
    "    :param H: The Hamiltonian.\n",
    "    :param p: Depth of the circuit (should be kept relatively small -- say 1 to 5).\n",
    "    :return: cirq.Circuit object performing QAOA with the given Hamiltonian p times (depth p).\n",
    "    \"\"\"\n",
    "    \n",
    "    # Number of qubits.\n",
    "    qubits = H.qubits\n",
    "    \n",
    "    # Define the circuit.\n",
    "    return cirq.Circuit(\n",
    "        # Hadamard over all qubits first to open uniform superposition.\n",
    "        cirq.H.on_each(*qubits),\n",
    "        \n",
    "        # p layer of QAOA-ness.\n",
    "        [\n",
    "            (\n",
    "                # Gamma layer.\n",
    "                generate_gamma_layer(H, i),\n",
    "                \n",
    "                # Beta layer.\n",
    "                generate_beta_layer(qubits, i)\n",
    "            )\n",
    "            for i in range(p)\n",
    "        ]\n",
    "    )\n",
    "\n",
    "\n",
    "circuit = generate_qaoa_circuit(H, p=1)\n",
    "circuit"
   ],
   "metadata": {
    "collapsed": false,
    "ExecuteTime": {
     "end_time": "2023-12-06T00:25:51.848739100Z",
     "start_time": "2023-12-06T00:25:51.820221500Z"
    }
   },
   "id": "d931e5afb505e525"
  },
  {
   "cell_type": "code",
   "execution_count": 6,
   "outputs": [
    {
     "data": {
      "text/plain": "cirq.ParamResolver({'beta_0': 0.3205382149444925, 'gamma_0': -0.06605087626914322})"
     },
     "execution_count": 6,
     "metadata": {},
     "output_type": "execute_result"
    }
   ],
   "source": [
    "def find_optimal_parameters(circuit, H):\n",
    "    \"\"\"\n",
    "    Find the optimal assignments over the parameters in the given circuit.\n",
    "    \n",
    "    :param circuit: The QAOA circuit.\n",
    "    :param H: The Hamiltonian.\n",
    "    :return: cirq.ParamResolver object assigning values to each placeholder parameter in the given circuit.\n",
    "    \"\"\"\n",
    "    \n",
    "    # Define the parameters and observables.\n",
    "    parameters = sorted(cirq.parameter_names(circuit))\n",
    "    observables = [term.with_coefficient(1) for term in H]\n",
    "    \n",
    "    # Define the function to be minimised -- the expectation value with given assignments.\n",
    "    def func_to_minimise(x):\n",
    "        # Assign the parameters their given values.\n",
    "        parameter_assignments = cirq.ParamResolver({param : val for param, val in zip(parameters, x)})\n",
    "        \n",
    "        # Simulator object.\n",
    "        simulator = qsimcirq.QSimSimulator(\n",
    "            qsimcirq.QSimOptions(cpu_threads=8, verbosity=0)\n",
    "        )\n",
    "        \n",
    "        # Simulate the expectation value.\n",
    "        result = simulator.simulate_expectation_values(\n",
    "            program=circuit, observables=observables, param_resolver=parameter_assignments\n",
    "        )\n",
    "        \n",
    "        # Compute the return, ignoring the imaginary component.\n",
    "        return sum(term.coefficient * val for term, val in zip(H, result)).real\n",
    "    \n",
    "    # Initialise the assignments (with no prior knowledge, all zeros is fine).\n",
    "    x0 = np.asarray([0.0] * len(parameters))\n",
    "    \n",
    "    # Minimise the function over the parameters.\n",
    "    result = minimize(func_to_minimise, x0, method='Nelder-Mead')\n",
    "    return cirq.ParamResolver({param: optimal_val for param, optimal_val in zip(parameters, result.x)})\n",
    "        \n",
    "\n",
    "optimal_parameters = find_optimal_parameters(circuit, H)\n",
    "optimal_parameters"
   ],
   "metadata": {
    "collapsed": false,
    "ExecuteTime": {
     "end_time": "2023-12-06T00:25:54.820455500Z",
     "start_time": "2023-12-06T00:25:54.021579900Z"
    }
   },
   "id": "511b848c246d2969"
  },
  {
   "cell_type": "code",
   "execution_count": 7,
   "outputs": [
    {
     "name": "stdout",
     "output_type": "stream",
     "text": [
      "6, 3281\n",
      "0, 2765\n",
      "1, 2595\n",
      "4, 972\n",
      "2, 253\n",
      "3, 51\n",
      "7, 42\n",
      "5, 41\n"
     ]
    }
   ],
   "source": [
    "def sample_bitstring_from_parameters(circuit, parameter_assignments, H, repetitions):\n",
    "    \"\"\"\n",
    "    Sample the states obtained via measurements made on the circuit with the given parameter assignments, given as a histogram of repeated runs.\n",
    "    \n",
    "    :param circuit: The circuit to measure.\n",
    "    :param parameter_assignments: The assignments to the parameters (as a cirq.ParamResolver object).\n",
    "    :param H: The Hamiltonian (whose qubits are operated on).\n",
    "    :param repetitions: Number of times to repeat the sampling.\n",
    "    :return: Histogram of states sampled by the measurements.\n",
    "    \"\"\"\n",
    "    \n",
    "    # Simulator object.\n",
    "    simulator = qsimcirq.QSimSimulator(\n",
    "        qsimcirq.QSimOptions(cpu_threads=8, verbosity=0)\n",
    "    )\n",
    "    \n",
    "    # Add a set of measurement operators to the circuit.\n",
    "    measurement_circuit = circuit + cirq.Circuit(cirq.measure(H.qubits, key='m'))\n",
    "    \n",
    "    # Run the simulation.\n",
    "    result = simulator.run(measurement_circuit, param_resolver=parameter_assignments, repetitions=repetitions)\n",
    "    \n",
    "    # Let's have a histogram.\n",
    "    return result.histogram(key='m')\n",
    "\n",
    "\n",
    "n_samples = 10000\n",
    "states_histogram = sample_bitstring_from_parameters(circuit, optimal_parameters, H, n_samples)\n",
    "outcomes, frequencies = zip(*states_histogram.most_common(len(states_histogram)))\n",
    "\n",
    "for x, y in zip(outcomes, frequencies):\n",
    "    print(f'{x}, {y}')"
   ],
   "metadata": {
    "collapsed": false,
    "ExecuteTime": {
     "end_time": "2023-12-06T00:25:57.262295600Z",
     "start_time": "2023-12-06T00:25:57.240780900Z"
    }
   },
   "id": "4e702dec6414d293"
  },
  {
   "cell_type": "code",
   "execution_count": 8,
   "outputs": [
    {
     "data": {
      "text/plain": "array([[  3,   5,   0, 241],\n       [  0,   4,   4, 242],\n       [  3,   2,   4, 238],\n       [ -1,   6,   2, 239],\n       [  4,   3,   2, 244],\n       [  7,   1,   2, 240],\n       [  6,   3,   0, 237],\n       [  2,   4,   2, 235]])"
     },
     "execution_count": 8,
     "metadata": {},
     "output_type": "execute_result"
    }
   ],
   "source": [
    "def integer_outcomes_to_lattice_vectors(states, w, D, step_signs):\n",
    "    # Convert the integer state to a binary state -- telling us WHETHER to step in each basis direction.\n",
    "    m = 3 # This is an attribute of the class, so we'll hardcode it here.\n",
    "    binary_states = (((states[:, None] & (1 << np.arange(m)[::-1]))) > 0).astype(int)\n",
    "    \n",
    "    # Pairwise-multiply the binary states and step signs -- telling us HOW to step in each basis.\n",
    "    steps = np.multiply(binary_states, step_signs)\n",
    "    \n",
    "    # Add the steps to the Babai weights.\n",
    "    w_new = w + steps\n",
    "    \n",
    "    # Left-multiply to yield the new vector v_new on the lattice corresponding to the states.\n",
    "    return w_new @ D.T\n",
    "\n",
    "lattice_vectors = integer_outcomes_to_lattice_vectors(np.array(outcomes), w, D, step_signs)\n",
    "lattice_vectors"
   ],
   "metadata": {
    "collapsed": false,
    "ExecuteTime": {
     "end_time": "2023-12-06T00:25:59.460358500Z",
     "start_time": "2023-12-06T00:25:59.408954400Z"
    }
   },
   "id": "49b4e447a6b5da8c"
  },
  {
   "cell_type": "code",
   "execution_count": 9,
   "outputs": [
    {
     "name": "stdout",
     "output_type": "stream",
     "text": [
      "Reminder: the residual vector b_op - t = [0 4 4 2] gives distance to target 6.0.\n",
      "This came from b_op = [  0   4   4 242] and t = [  0   0   0 240]\n",
      "\n",
      "With prob 0.328, v_new = [  3   5   0 241] with distance to target 5.916079783099616.\n",
      "With prob 0.277, v_new = [  0   4   4 242] with distance to target 6.0.\n",
      "With prob 0.260, v_new = [  3   2   4 238] with distance to target 5.744562646538029.\n",
      "With prob 0.097, v_new = [ -1   6   2 239] with distance to target 6.48074069840786.\n",
      "With prob 0.025, v_new = [  4   3   2 244] with distance to target 6.708203932499369.\n",
      "With prob 0.005, v_new = [  7   1   2 240] with distance to target 7.3484692283495345.\n",
      "With prob 0.004, v_new = [  6   3   0 237] with distance to target 7.3484692283495345.\n",
      "With prob 0.004, v_new = [  2   4   2 235] with distance to target 7.0.\n"
     ]
    }
   ],
   "source": [
    "print(f'Reminder: the residual vector b_op - t = {residual_vector} gives distance to target {np.linalg.norm(residual_vector)}.')\n",
    "print(f'This came from b_op = {b_op} and t = {t}\\n')\n",
    "\n",
    "for v_new, freq in zip(lattice_vectors, frequencies):\n",
    "    print(f'With prob {round(freq / n_samples, 3):.3f}, v_new = {v_new} with distance to target {np.linalg.norm(v_new - t)}.')"
   ],
   "metadata": {
    "collapsed": false,
    "ExecuteTime": {
     "end_time": "2023-12-06T00:26:01.877821800Z",
     "start_time": "2023-12-06T00:26:01.827816400Z"
    }
   },
   "id": "dbc9daf2ef46d0e4"
  }
 ],
 "metadata": {
  "kernelspec": {
   "display_name": "Python 3",
   "language": "python",
   "name": "python3"
  },
  "language_info": {
   "codemirror_mode": {
    "name": "ipython",
    "version": 2
   },
   "file_extension": ".py",
   "mimetype": "text/x-python",
   "name": "python",
   "nbconvert_exporter": "python",
   "pygments_lexer": "ipython2",
   "version": "2.7.6"
  }
 },
 "nbformat": 4,
 "nbformat_minor": 5
}
