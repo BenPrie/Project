{
 "cells": [
  {
   "cell_type": "code",
   "execution_count": 16,
   "metadata": {},
   "outputs": [],
   "source": [
    "# Imports as always...\n",
    "import numpy as np\n",
    "from fpylll import IntegerMatrix, LLL, GSO\n",
    "\n",
    "# Ignore warnings.\n",
    "import warnings\n",
    "warnings.filterwarnings('ignore')"
   ]
  },
  {
   "cell_type": "markdown",
   "metadata": {},
   "source": [
    "### Generating a random CVP instance\n",
    "\n",
    "To generate CVPs, we will create a random basis matrix, then choose a random vector (to be the solution) and perturb it by some small amount (small enough that we do not move too close to another vector).\n",
    "\n",
    "For a fair comparison against Yan et al. (2022)'s SQIF algorithm, we choose to produce CVPs of the same form, parameterised likewise by a precision parameter $c$."
   ]
  },
  {
   "cell_type": "code",
   "execution_count": 15,
   "metadata": {},
   "outputs": [
    {
     "data": {
      "text/plain": [
       "array([[    2,     0,     0,     0,     0],\n",
       "       [    0,     4,     0,     0,     0],\n",
       "       [    0,     0,     3,     0,     0],\n",
       "       [    0,     0,     0,     3,     0],\n",
       "       [    0,     0,     0,     0,     1],\n",
       "       [16239, 12323, 44647, 34044, 38322]])"
      ]
     },
     "execution_count": 15,
     "metadata": {},
     "output_type": "execute_result"
    }
   ],
   "source": [
    "def random_cvp(dim, c, epsilon, seed=42):\n",
    "    \"\"\"\n",
    "    Generates a random CVP on a Euclidean lattice of the given dimension, together with the solution.\n",
    "\n",
    "    :param dim: Lattice dimension.\n",
    "    :param c: \"Precision parameter\".\n",
    "    :param epsilon: Maximum pertubation amount in each component of the solution.\n",
    "    :param seed: Seed for random state.\n",
    "    \n",
    "    :return: Basis matrix (B), target vector (t), selected solution (v).\n",
    "    \"\"\"\n",
    "\n",
    "    # Set the random state.\n",
    "    np.random.seed(seed)\n",
    "\n",
    "    # Create a relatively low-valued, diagonal, dim-by-dim matrix.\n",
    "    B = np.zeros(shape=(dim, dim)).astype(int)\n",
    "    np.fill_diagonal(B, np.random.uniform(low=1, high=dim, size=(1, dim)).astype(int))\n",
    "\n",
    "    # Create a relatively high-valued final row, controlled by c.\n",
    "    final_row = (10 ** c * np.random.uniform(low=1, high=dim, size=(1, dim))).astype(int)\n",
    "    B = np.vstack((B, final_row))\n",
    "\n",
    "    # Convert B to a matrix of integers (in fpylll's own type).\n",
    "    B = [[int(b) for b in bs] for bs in B]\n",
    "    B = IntegerMatrix.from_matrix(B)\n",
    "\n",
    "    # Select a random lattice vector to be the proposed solution.\n",
    "    # This will roughly follow the desired form from Yan et al. (2022).\n",
    "    v = np.random.normal(loc=0, scale=dim, size=(1, dim+1))\n",
    "    v[-1] *= 10 ** c\n",
    "    \n",
    "\n",
    "    return B, \n",
    "\n",
    "random_cvp(dim=5, c=4, epsilon=1e-3)"
   ]
  }
 ],
 "metadata": {
  "kernelspec": {
   "display_name": "project-env",
   "language": "python",
   "name": "python3"
  },
  "language_info": {
   "codemirror_mode": {
    "name": "ipython",
    "version": 3
   },
   "file_extension": ".py",
   "mimetype": "text/x-python",
   "name": "python",
   "nbconvert_exporter": "python",
   "pygments_lexer": "ipython3",
   "version": "3.11.5"
  }
 },
 "nbformat": 4,
 "nbformat_minor": 2
}
