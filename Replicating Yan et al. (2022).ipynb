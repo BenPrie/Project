{
 "cells": [
  {
   "cell_type": "markdown",
   "source": [
    "# Replicating [Yan et al. (2022)](https://arxiv.org/abs/2212.12372)\n",
    "\n",
    "Our goal is to factor a number $N$ into two prime numbers $p$ and $q$. Yes, $N$ is selected so that this is always the case. Yan et al. (2022)'s claim is that, by using quantum computers to speed up classically-slow computations (specifically, finding smooth-relation pairs), then [Schnorr's classical factoring algorithm](https://eprint.iacr.org/2021/933) (which adopts a lattice-based approach to factoring) can be used to solve factoring with a \"sublinear\" number of qubits in the bit length of $N$.\n",
    "\n",
    "The lattice used in Schnorr's algorithm is of dimension $n$, defined according to the bit length of $N$, which we'll call $m$. While Schnorr himself is a little coy on the exact formulation of his choice on $n$, Yan et al. (2022) suggest the dimension satisfies $n\\sim2c\\log N/\\log\\log N$, where $c$ is a lattice parameter close to $1$ that we'll meet in a moment.\n",
    "\n",
    "Yan et al. (2022)'s method takes a relatively good [classical estimate solving the CVP](https://link.springer.com/article/10.1007/BF02579403), call it $b_{op}$, then uses QAOA to search in the unit hypercube on the lattice surrounding it, where \"unit\" is defined with consideration to the basis $D=[d_1,\\dots,d_n]$ obtained by [lattice reduction](https://infoscience.epfl.ch/record/164484/files/nscan4.PDF).\n",
    "\n",
    "So, all things considered, the implementation is structured as follows:\n",
    "\n",
    "1. Firstly, we define the basis of the prime lattice $B_{n,c}\\in\\mathbb{R}^{(n+1)\\times n}$, parameterised by the \"precision parameter\" $c$, and a target vector $t\\in\\mathbb{R}^{n+1}$ which embody the reduction of the prime factorisation problem to the CVP on a lattice, whose vectors are smooth-relation pairs (sr-pairs).\n",
    "$$\n",
    "    B_{n,c}=\n",
    "\\begin{pmatrix}\n",
    "f(1)       & 0          & \\cdots & 0      \\\\\n",
    "0          & f(2)       & \\cdots & 0      \\\\ \n",
    "\\vdots     & \\vdots     & \\ddots & \\vdots \\\\ \n",
    "0          & 0          & \\cdots & f(n)   \\\\ \n",
    "N^c\\ln p_1 & N^c\\ln p_2 & \\cdots & N^c\\ln p_n\n",
    "\\end{pmatrix}\n",
    "\\phantom{\\int}\\text{and}\\phantom{\\int}\n",
    "t=\n",
    "\\begin{pmatrix}\n",
    "0 \\\\ 0 \\\\ \\vdots \\\\ 0 \\\\ N^c\\ln N\n",
    "\\end{pmatrix}\n",
    "$$\n",
    "\n",
    "2. Secondly, we perform lattice reduction (e.g. LLL) to obtain a reduced basis $D=[d_1,\\dots,d_n]$ and corresponding Gram-Schmidt orthogonal basis $\\tilde{D}=[\\tilde{d}_1,\\dots,\\tilde{d}_n]$.\n",
    "\n",
    "3. Thirdly, we obtain an approximate solution $b_{op}$ by rounding each of the Gram-Schmidt coefficients to give the coefficients $c_i=\\lceil\\mu_i\\rfloor=\\lceil\\langle d_i,\\tilde{d}_i\\rangle/\\langle\\tilde{d}_i,\\tilde{d}_i\\rangle\\rfloor$. That is,\n",
    "$$\n",
    "b_{op}=\\sum_{i=1}^{n}c_id_i\n",
    "$$\n",
    "\n",
    "4. Then, we formulate an optimisation problem that looks for an even closer vector $v_{new}$ by floating each coefficient either $\\pm1$ or $0$ (i.e. taking a unit step away or staying put for each lattice dimension). Hence, our optimisation problem is to find the set of floating variables $\\{x_1,\\dots,x_n\\}$ that minimise the distance between $v_{new}$ and $t$;\n",
    "$$\n",
    "F(x_1,\\dots,x_n)=\\|t-v_{new}\\|^2=\\Bigg\\|t-b_{op}+\\sum_{i=1}^nx_id_i\\Bigg\\|^2.\n",
    "$$\n",
    "\n",
    "5. Next, this optimisation problem is mapped to a Hamiltonian by exchanging the floating variables $x_i$ for positive or negative Pauli-Z operators $\\sigma_z^i$, whose measured eigenvalues correspond exactly with the classical optimisation problem. Denote $\\hat{x}_i$ to be the Pauli-Z operator $\\pm\\sigma_z^i$ corresponding to up-floating or down-floating.\n",
    "$$\n",
    "H_P=\\Bigg\\|t-b_{op}+\\sum_{i=1}^n\\hat{x}_id_i\\Bigg\\|^2=\\sum_{j=1}^{n+1}\\Bigg|t_j-b^j_{op}+\\sum_{i=1}^n\\hat{x}_id_{i,j}\\Bigg|^2.\n",
    "$$\n",
    "\n",
    "6. Jumping into the world of programming, we then build a [VQE](https://arxiv.org/abs/1304.3061) to minimise the expectation value of our Hamiltonian $H_P$ under the trial state $|\\psi(\\vec\\theta)\\rangle$ parameterised by $\\vec\\theta$. Yan et al. (2022) use QAOA, which is not convincing of its ability to provide quantum advantage."
   ],
   "metadata": {
    "collapsed": false
   },
   "id": "2182064b92f69ca6"
  },
  {
   "cell_type": "markdown",
   "source": [
    "## Problem Set-up\n",
    "\n",
    "Decide on a number to be factored, given in binary."
   ],
   "metadata": {
    "collapsed": false
   },
   "id": "638035f54e0b3976"
  },
  {
   "cell_type": "code",
   "execution_count": 9,
   "outputs": [],
   "source": [
    "import copy\n",
    "\n",
    "# Imports as always...\n",
    "import numpy as np\n",
    "from fpylll import *\n",
    "from copy import deepcopy"
   ],
   "metadata": {
    "collapsed": false,
    "ExecuteTime": {
     "end_time": "2023-12-03T02:52:59.584468600Z",
     "start_time": "2023-12-03T02:52:59.569226700Z"
    }
   },
   "id": "26b3ed4660ab6a91"
  },
  {
   "cell_type": "code",
   "execution_count": 10,
   "outputs": [],
   "source": [
    "# Seed for random generation. The seed 99 gives the same B_{5,4} as in the paper.\n",
    "np.random.seed(99)"
   ],
   "metadata": {
    "collapsed": false,
    "ExecuteTime": {
     "end_time": "2023-12-03T02:53:01.073295500Z",
     "start_time": "2023-12-03T02:53:01.060106500Z"
    }
   },
   "id": "53f4f6fe7aa6a9f9"
  },
  {
   "cell_type": "code",
   "execution_count": 11,
   "outputs": [
    {
     "name": "stdout",
     "output_type": "stream",
     "text": [
      "Integer to be factored: N = 48567227 (into the factors p = 7919 and q = 6133).\n",
      "This has bit-length 26\n"
     ]
    }
   ],
   "source": [
    "# The integer to be factored.\n",
    "p, q = 7919, 6133 \n",
    "N = p * q\n",
    "\n",
    "# What is the bit-length of the integer?\n",
    "N_bit_length = N.bit_length()\n",
    "\n",
    "# Convert to binary (drop the '0b' prefix).\n",
    "N_binary = bin(N)[2:]\n",
    "\n",
    "print(f'Integer to be factored: N = {N} (into the factors p = {p} and q = {q}).')\n",
    "print(f'This has bit-length {N_bit_length}')"
   ],
   "metadata": {
    "collapsed": false,
    "ExecuteTime": {
     "end_time": "2023-12-03T02:53:02.671313400Z",
     "start_time": "2023-12-03T02:53:02.617402700Z"
    }
   },
   "id": "df3c253e61f987fc"
  },
  {
   "cell_type": "markdown",
   "source": [
    "The lattice dimension $m$ is given by $m=\\lfloor ln/\\log n\\rfloor$, where $n=\\lfloor\\log N\\rfloor$ and $l$ is a hyperparamter that Yan et al. (2022) keep to $l\\in\\{1,2\\}$."
   ],
   "metadata": {
    "collapsed": false
   },
   "id": "f2dfbef54273e099"
  },
  {
   "cell_type": "code",
   "execution_count": 12,
   "outputs": [
    {
     "name": "stdout",
     "output_type": "stream",
     "text": [
      "The claim is that we need only a lattice of dimension 5.\n"
     ]
    }
   ],
   "source": [
    "# The claimed lattice dimension to factor this integer is l * log N / log log N.\n",
    "l = 1\n",
    "\n",
    "n = np.log2(N)\n",
    "m = (l * n) / np.log2(n)\n",
    "\n",
    "# Round them, after the fact.\n",
    "n, m = int(np.floor(n)), int(np.floor(m))\n",
    "\n",
    "print(f'The claim is that we need only a lattice of dimension {m}.')"
   ],
   "metadata": {
    "collapsed": false,
    "ExecuteTime": {
     "end_time": "2023-12-03T02:53:04.433309400Z",
     "start_time": "2023-12-03T02:53:04.386358600Z"
    }
   },
   "id": "d7dd8734c0f41624"
  },
  {
   "cell_type": "code",
   "execution_count": 13,
   "outputs": [],
   "source": [
    "primes = [2,3,5,7,11,13,17,19,23,29,31,37,41,43,47,53,59,61,67,71,73,79,83,89,97,101,103,107,109,113,127,131,137,139,149,151,157, 163,167,173]"
   ],
   "metadata": {
    "collapsed": false,
    "ExecuteTime": {
     "end_time": "2023-12-03T02:53:06.695776100Z",
     "start_time": "2023-12-03T02:53:06.684033900Z"
    }
   },
   "id": "ca59e0a8f2526140"
  },
  {
   "cell_type": "markdown",
   "source": [
    "Constructing the prime lattice and target vector according to the integer to be factored. We do this according to appendix IV part A (page 13) of Yan et al. (2022). The hyperparameter $c$ is the \"precision parameter\"."
   ],
   "metadata": {
    "collapsed": false
   },
   "id": "5eab10af18d8b753"
  },
  {
   "cell_type": "code",
   "execution_count": 14,
   "outputs": [
    {
     "name": "stdout",
     "output_type": "stream",
     "text": [
      "B = \n",
      "[    2     0     0     0     0 ]\n",
      "[    0     1     0     0     0 ]\n",
      "[    0     0     3     0     0 ]\n",
      "[    0     0     0     2     0 ]\n",
      "[    0     0     0     0     1 ]\n",
      "[ 6931 10986 16094 19459 23979 ]\n",
      "\n",
      "t = \n",
      "(0, 0, 0, 0, 0, 176985)\n"
     ]
    }
   ],
   "source": [
    "c = 4\n",
    "\n",
    "# Produce the random permutation for the diagonal.\n",
    "f = np.random.permutation([(i + 1) // 2 for i in range(1, m + 1)])\n",
    "\n",
    "# Create a zero matrix and add in the diagonal permutation.\n",
    "B = np.zeros(shape=(m, m))\n",
    "np.fill_diagonal(B, f)\n",
    "\n",
    "# Create the extra final row and stick it on.\n",
    "final_row = np.round(10 ** c * np.log(np.array(primes[:m])))\n",
    "B = np.vstack((B, final_row))\n",
    "\n",
    "# fpylll doesn't like numyp arrays, so convert it to a stnadard array.\n",
    "B = [[int(b) for b in bs] for bs in B]\n",
    "\n",
    "# Convert B to a matrix of integers (in fpylll's own type).\n",
    "B = IntegerMatrix.from_matrix(B)\n",
    "print(f'B = \\n{B}')\n",
    "\n",
    "# Define the target vector.\n",
    "t = np.zeros(m + 1)\n",
    "t[-1] = np.round(10 ** c * np.log(N))\n",
    "t = tuple(t.astype(int))\n",
    "\n",
    "# And again, if t could be a bunch of integers, that would be swell.\n",
    "print(f'\\nt = \\n{t}')"
   ],
   "metadata": {
    "collapsed": false,
    "ExecuteTime": {
     "end_time": "2023-12-03T02:53:09.058385300Z",
     "start_time": "2023-12-03T02:53:09.007849500Z"
    }
   },
   "id": "15e60195f1048b86"
  },
  {
   "cell_type": "markdown",
   "source": [
    "## Babai's Algorithm: Finding an Approximate Solution $b_{op}$\n",
    "\n",
    "Performing LLL lattice reduction to obtain a reduced basis $D$ and corresponding Gram-Schmidt orthogonal basis $\\tilde{D}$.\n",
    "\n",
    "Using the [fpylll](https://pypi.org/project/fpylll/) library, which is not supported on windows, so I am having to do this in the world's slowest virtual machine."
   ],
   "metadata": {
    "collapsed": false
   },
   "id": "3ddf8d70c4148975"
  },
  {
   "cell_type": "code",
   "execution_count": 9,
   "outputs": [
    {
     "name": "stdout",
     "output_type": "stream",
     "text": [
      "D (transposed) = \n",
      "[  6 -4  6  4 -2  -3 ]\n",
      "[ -8 -3  6 -2  2   5 ]\n",
      "[  2 11  3  0 -6  -3 ]\n",
      "[ -4 -5  0 12 -2   4 ]\n",
      "[ -4 -3 -3  4  1 -17 ]\n",
      "\n",
      "Which way is each coefficient rounded?\n",
      "mu=-3092.4957264957266 c=-3092\n",
      "mu=-354.46685552407934 c=-354\n",
      "mu=-1837.4759673530396 c=-1837\n",
      "mu=3882.501940752412 c=3883\n",
      "mu=-8731.560681864921 c=-8732\n",
      "\n",
      "b_op = \n",
      "[     2      4      9      8      0 176993]\n",
      "\n",
      "Hence, the residual vector is \n",
      "[-2 -4 -9 -8  0 -8]\n",
      "\n",
      "This has a distance of 15.133 to the target vector.\n"
     ]
    }
   ],
   "source": [
    "# LLL-reduction hyperparameter (using 0.75, according to Wikipedia)\n",
    "delta = .75\n",
    "\n",
    "D = deepcopy(B).transpose()\n",
    "LLL.reduction(D, delta)\n",
    "print(f'D (transposed) = \\n{D}\\n')\n",
    "\n",
    "M = GSO.Mat(D, update=True)\n",
    "w = M.babai(t)\n",
    "\n",
    "A = IntegerMatrix(2 * D.nrows, D.ncols)\n",
    "for i in range(D.nrows):\n",
    "    for j in range(D.ncols):\n",
    "        A[i, j] = D[i, j]\n",
    "\n",
    "b = np.array(t)\n",
    "for i in reversed(range(D.nrows)):\n",
    "    for j in range(D.ncols):\n",
    "        A[i + D.nrows, j] = int(b[j])\n",
    "    b -= w[i] * np.array(D[i])\n",
    "\n",
    "print(\"Which way is each coefficient rounded?\")\n",
    "M = GSO.Mat(A, update=True)\n",
    "rounding_direction = []\n",
    "for i in range(D.nrows):\n",
    "    mu = M.get_mu(i + D.nrows, i)\n",
    "    print(f'mu={mu} c={w[i]}')\n",
    "    rounding_direction.append(w[i] > mu)\n",
    "  \n",
    "b_op = np.array(D.multiply_left(w))\n",
    "residual_vector = np.array(t) - b_op\n",
    "print(f'\\nb_op = \\n{b_op}\\n')\n",
    "print(f'Hence, the residual vector is \\n{residual_vector}\\n')\n",
    "print(f'This has a distance of {round(np.linalg.norm(residual_vector), 3)} to the target vector.')"
   ],
   "metadata": {
    "collapsed": false,
    "ExecuteTime": {
     "end_time": "2023-11-27T16:37:48.248659100Z",
     "start_time": "2023-11-27T16:37:48.224663300Z"
    }
   },
   "id": "ea1da4621c8b4e60"
  },
  {
   "cell_type": "code",
   "execution_count": 10,
   "outputs": [],
   "source": [
    "# Reformatting after this step to make subsequent steps easier.\n",
    "def integer_matrix_to_numpy(M):\n",
    "  m, n = M.nrows, M.ncols\n",
    "  D = np.zeros((m, n), dtype=int)\n",
    "  M.to_matrix(D)\n",
    "  return D\n",
    "\n",
    "B = integer_matrix_to_numpy(B)\n",
    "D = integer_matrix_to_numpy(D.transpose())\n",
    "t = np.array(t)\n",
    "rounding_direction = tuple(rounding_direction)"
   ],
   "metadata": {
    "collapsed": false,
    "ExecuteTime": {
     "end_time": "2023-11-27T16:37:50.397899600Z",
     "start_time": "2023-11-27T16:37:50.364686800Z"
    }
   },
   "id": "1676bbd36b76a389"
  },
  {
   "cell_type": "markdown",
   "source": [
    "## The Problem Hamiltonian\n",
    "\n",
    "The new vector $v_{new}$ to be optimally found is parameterised on $b_{op}$ in the following way:\n",
    "$$\n",
    "v_{new}=b_{op}+\\sum_{i=1}^nx_id_i=\\sum_{i=1}^n(c_i+x_i)d_i\n",
    "$$\n",
    "\n",
    "Naively, we may choose $x_i\\in\\{\\pm1,0\\}$ to step a unit amount in direction $d_i$ (or not move at all), which thus paints out the unit hypercube around $b_{op}=\\sum_{i=1}^nc_id_i$ as our search space. However, we need not be this naive!\n",
    "\n",
    "During the finding of $b_{op}$, the coefficients $c_i$ were found by rounding the Gram-Schmidt coefficients $\\mu_i$ to the nearest integer. Hence, $b_{op}$ either overestimates or underestimates the $d_i$-th component. So when we are nudging $b_{op}$ around to yield $v_{new}$, there is no need to consider *further* over/under-estimation! That is, if $c_i$ is obtained through rounding $\\mu_i$ upward, then using $x_i$ should not be $+1$ as that would overestimate *again* (and likewise for the rounding down case).\n",
    "\n",
    "Consider the following:\n",
    "$$\n",
    "v_{new}=\\sum_{i=1}^nc_id_i+\\text{sign}(\\mu_i-c_i)x_id_i=\\sum_{i=1}^nc_id_i+\\lceil \\mu_i-c_i\\rceil x_id_i\n",
    "$$\n",
    "\n",
    "Now, we may have $x_i\\in\\{0,1\\}$ (giving us a pure QUBO formulation, as desired) which correspond to $n$ decisions about whether each dimension of the approximate solution $d_i$ was rounded the wrong way ($x_i=1$ indicates that $v_{new}$ tries rounding the other way, and $x_i=0$ indicates that $v_{new}$ agrees with the rounding of $b_{op}$ and nothing need be done).\n",
    "\n",
    "Since $\\text{sign}(\\mu_i-c_i)=\\lceil\\mu_i-c_i\\rceil=\\pm1$, this additional coefficient gives us whether $b_{op}$ over- or under-estimated, thus allows us to make the restriction on which direction $v_{new}$ is able to 'step'. We have that $|\\mu_i-c_i|<1$, thus $\\lceil\\mu_i-c_i\\rceil=+1$ if $c_i$ is obtained by rounding down $\\mu_i$ and $-1$ if by rounding up.\n",
    "\n",
    "By keeping $x_i\\in\\{0,1\\}$, we enforce that $v_{new}$ either step in the opposing direction to the rounding (i.e. round the other way on the coefficient $\\mu_i$) or do nothing. If $x_i=1$, then $v_{vew}$'s $i$-th coefficient will be $\\lceil\\mu_i-c_i\\rceil=\\pm1$ step from $b_{op}$'s coefficient, corresponding to deciding to round $\\mu_i$ to the *second*-nearest integer.\n",
    "\n",
    "To complete the thought, the optimisation problem can now be formulated as a strictly binary optimisation problem;\n",
    "$$\n",
    "F(x_1,\\dots,x_n)=\\|t-v_{new}\\|^2=\\Bigg\\|t-b_{op}+\\sum_{i=1}^n\\lceil\\mu_i-c_i\\rceil x_id_i\\Bigg\\|^2.\n",
    "$$\n",
    "and hence the Hamiltonian is obtained through a singular mapping;\n",
    "$$\n",
    "H_P=\\Bigg\\|t-b_{op}+\\sum_{i=1}^n\\lceil\\mu_i-c_i\\rceil\\hat{x}_id_i\\Bigg\\|^2=\\sum_{j=1}^{n+1}\\Bigg|t_j-b^j_{op}+\\sum_{i=1}^n\\lceil\\mu_i-c_i\\rceil\\hat{x}_id_{i,j}\\Bigg|^2\\phantom{\\int}\\text{with}\\phantom{\\int}\\hat{x}_i=\\frac{I-\\sigma_z^i}{2}\n",
    "$$\n",
    "\n",
    "Note: the above ignores that $\\mu_i$ may well have been negative, so each $\\lceil\\mu_i-c_i\\rceil$ should really be $\\lceil|\\mu_i|-|c_i|\\rceil$."
   ],
   "metadata": {
    "collapsed": false
   },
   "id": "51a6f34f32275736"
  },
  {
   "cell_type": "markdown",
   "source": [
    "Let's define the Hamiltonian using `cirq`, which lets us do $I-\\sigma_z^i$ very easily with `cirq.I(i) + -cirq.Z(i)`, where `i` refers to the $i$-th qubit and thus the tensor product is implicit. "
   ],
   "metadata": {
    "collapsed": false
   },
   "id": "499a58cedf5d422d"
  },
  {
   "cell_type": "code",
   "execution_count": 11,
   "outputs": [],
   "source": [
    "# More imports...\n",
    "import cirq"
   ],
   "metadata": {
    "collapsed": false,
    "ExecuteTime": {
     "end_time": "2023-11-27T16:37:55.705746200Z",
     "start_time": "2023-11-27T16:37:53.462667400Z"
    }
   },
   "id": "cdc03f468108ece2"
  },
  {
   "cell_type": "code",
   "execution_count": 15,
   "outputs": [
    {
     "name": "stdout",
     "output_type": "stream",
     "text": [
      "6x_0\n",
      "-8x_1\n",
      "2x_2\n",
      "-4x_3\n",
      "-4x_4\n",
      "-2\n",
      "\n",
      "-3.0*Z(q(0))-2.0*I+4.0*Z(q(1))-1.0*Z(q(2))+2.0*Z(q(3))-2.0*Z(q(4))\n",
      "\n",
      "-4x_0\n",
      "-3x_1\n",
      "11x_2\n",
      "-5x_3\n",
      "-3x_4\n",
      "-4\n",
      "\n",
      "2.0*Z(q(0))-3.0*I+1.5*Z(q(1))-5.5*Z(q(2))+2.5*Z(q(3))-1.5*Z(q(4))\n",
      "\n",
      "6x_0\n",
      "6x_1\n",
      "3x_2\n",
      "0x_3\n",
      "-3x_4\n",
      "-9\n",
      "\n",
      "-3.0*Z(q(0))-3.0*Z(q(1))-1.5*Z(q(2))-1.5*Z(q(4))\n",
      "\n",
      "4x_0\n",
      "-2x_1\n",
      "0x_2\n",
      "12x_3\n",
      "4x_4\n",
      "-8\n",
      "\n",
      "-2.0*Z(q(0))-3.0*I+1.0*Z(q(1))-6.0*Z(q(3))+2.0*Z(q(4))\n",
      "\n",
      "-2x_0\n",
      "2x_1\n",
      "-6x_2\n",
      "-2x_3\n",
      "1x_4\n",
      "0\n",
      "\n",
      "1.0*Z(q(0))-1.0*Z(q(1))+3.0*Z(q(2))-4.5*I+1.0*Z(q(3))+0.5*Z(q(4))\n",
      "\n",
      "-3x_0\n",
      "5x_1\n",
      "-3x_2\n",
      "4x_3\n",
      "-17x_4\n",
      "-8\n",
      "\n",
      "1.5*Z(q(0))+2.0*I-2.5*Z(q(1))+1.5*Z(q(2))-2.0*Z(q(3))-8.5*Z(q(4))\n",
      "\n",
      "H = \n",
      "292.0*I+3.5*Z(q(0))*Z(q(2))+18.0*Z(q(0))*Z(q(3))-17.5*Z(q(0))*Z(q(4))-32.0*Z(q(1))+16.0*Z(q(2))-4.0*Z(q(3))-33.5*Z(q(4))-29.0*Z(q(1))*Z(q(2))+19.5*Z(q(1))*Z(q(3))+34.0*Z(q(1))*Z(q(4))-31.5*Z(q(2))*Z(q(3))+2.5*Z(q(2))*Z(q(4))-4.5*Z(q(3))*Z(q(4))+9.0*Z(q(0))-13.5*Z(q(0))*Z(q(1))\n"
     ]
    }
   ],
   "source": [
    "# We have kept track of whether we rounded up, so convert this to +/-1 indications of whether each c_i is a rounding up or down.\n",
    "# The direction v_new is allowed to step in each d_i is the opposite of this.\n",
    "step_signs = - (np.array(rounding_direction).astype(int) * 2 - 1)\n",
    "\n",
    "# Define the circuit.\n",
    "circuit = cirq.LineQubit.range(D.shape[0])\n",
    "\n",
    "# Add the appropriate operator to each qubit.\n",
    "operators = []\n",
    "for i, sign in zip(circuit, step_signs):\n",
    "    operator = sign * ((cirq.I(i) + -cirq.Z(i)) / 2)\n",
    "    operators.append(operator)\n",
    "    \n",
    "# Define the Hamiltonian.\n",
    "H = cirq.PauliSum()\n",
    "for j in range(D.shape[0]):\n",
    "    h = residual_vector[j] \n",
    "    for i in range(D.shape[1]):\n",
    "        print(f'{int(D[j,i])}x_{i}')\n",
    "        h -= operators[i] * D[j, i]\n",
    "    print(f'{residual_vector[j]}\\n')\n",
    "    print(f'{h}\\n')\n",
    "    H += h ** 2\n",
    "    \n",
    "print(f'H = \\n{H}')"
   ],
   "metadata": {
    "collapsed": false,
    "ExecuteTime": {
     "end_time": "2023-11-27T16:49:51.965366400Z",
     "start_time": "2023-11-27T16:49:51.884345100Z"
    }
   },
   "id": "3e27b43e72cbc66b"
  },
  {
   "cell_type": "code",
   "execution_count": 12,
   "outputs": [
    {
     "name": "stdout",
     "output_type": "stream",
     "text": [
      "292.000 * I\n",
      "+3.500 * Z(q(0)) * Z(q(2))\n",
      "+18.000 * Z(q(0)) * Z(q(3))\n",
      "-17.500 * Z(q(0)) * Z(q(4))\n",
      "-32.000 * Z(q(1))\n",
      "+16.000 * Z(q(2))\n",
      "-4.000 * Z(q(3))\n",
      "-33.500 * Z(q(4))\n",
      "-29.000 * Z(q(1)) * Z(q(2))\n",
      "+19.500 * Z(q(1)) * Z(q(3))\n",
      "+34.000 * Z(q(1)) * Z(q(4))\n",
      "-31.500 * Z(q(2)) * Z(q(3))\n",
      "+2.500 * Z(q(2)) * Z(q(4))\n",
      "-4.500 * Z(q(3)) * Z(q(4))\n",
      "+9.000 * Z(q(0))\n",
      "-13.500 * Z(q(0)) * Z(q(1))\n"
     ]
    }
   ],
   "source": [
    "# Pretty printing the Hamiltonian.\n",
    "string_H = str(H)\n",
    "string_H = string_H.replace('+', '\\n+')\n",
    "string_H = string_H.replace('-', '\\n-')\n",
    "string_H = string_H.replace('*', ' * ')\n",
    "print(string_H)"
   ],
   "metadata": {
    "collapsed": false,
    "ExecuteTime": {
     "end_time": "2023-11-27T12:49:59.749599800Z",
     "start_time": "2023-11-27T12:49:59.695586900Z"
    }
   },
   "id": "66ab31144de0e0f7"
  },
  {
   "cell_type": "markdown",
   "source": [
    "## Sampling Low-energy Eigenstates of the Hamiltonian by QAOA\n",
    "\n",
    "[This](https://quantumai.google/cirq/experiments/qaoa/qaoa_ising) seems like a particularly relevant article from Google Quantum AI, which discusses QAOA for the Ising model (which our Hamiltonian is defined as) using Cirq."
   ],
   "metadata": {
    "collapsed": false
   },
   "id": "90d4b0ae22e80eb9"
  },
  {
   "cell_type": "markdown",
   "source": [
    "Specifically, we have the binary optimisation problem $F(z_1,\\dots,z_n)$, where each $z_i$ corresponds to the measurement outcome (i.e. an eigenvalue) of the Pauli-$Z$ operator on the $i$-th qubit (we're calling then $z_i$ rather than $x_i$ now because of this Pauli-$Z$ correlation -- it's just nice).\n",
    "\n",
    "First, we prepare $n$ qubits in an equal superposition of all possible $z$ assignments; \n",
    "\n",
    "$$\n",
    "H^{\\otimes n}|0^n\\rangle=\\frac{1}{2^{n/2}}\\sum_{z\\in\\{0,1\\}^n}|z\\rangle\n",
    "$$\n",
    "\n",
    "Now, our goal is to amplify the amplitdues of the $|z\\rangle$ for which $F(z)$ is small, and suppress the amplitudes of those for which $F(z)$ is large. This will allow us to measure better choices of $z$ with higher probability.\n",
    "\n",
    "Next, we act with the unitary $U(\\gamma,F)=e^{i\\pi\\gamma F(Z)/2}$, where $\\gamma$ is variational parameter, and $F(Z)$ denotes that we have exchanged the $z_i$ for Pauli-$Z$ operators, thus turning $F(z)$ (a real number) into $F(Z)$ (a matrix whose diagonal entries represent the possible values of $F(z)$). This sets the coefficients in the sum to be complex phases depending on $F$.\n",
    "\n",
    "Following this, we act with the unitary operator $U(\\beta,B)=e^{i\\pi\\beta B/2}$ (the \"mixing\" operation), where $\\beta$ is another variational parameter, and $B=\\sum_{i=1}^nX_i$ is the sum of Pauli-$X$ operator acting on each qubit. Each of these Pauli-$X$ operators commute, since they each apply to a different qubit, so we can rewrite this unitary as\n",
    "$$\n",
    "U(\\beta,B)=\\prod_{i=1}^ne^{i\\pi\\beta X_i/2}\n",
    "$$\n",
    "\n",
    "Since this operation is *not* diagonal in the computational basis (unlike the previous), there will be constructive and destructive interference, hopefully leading to enhancement of states corresponding to small values of $F$.\n",
    "\n",
    "These two steps are repeatedly applied $p\\geq1$ times, where $p$ here denotes the depth of the circuit. We allow $\\gamma$ and $\\beta$ to be chosen afresh each time (otherwise there wouldn't be much point in repeating it), giving a circuit that leaves our qubits in the state\n",
    "$$\n",
    "|\\gamma,\\beta\\rangle=U(\\beta_p,B)U(\\gamma_p,F)\\cdots U(\\beta_1,B)U(\\gamma_1,F)$\n",
    "$$\n",
    "\n",
    "It is our job to select $\\gamma$ and $\\beta$ so that the expectation value $F(\\gamma,\\beta)=\\langle\\gamma,\\beta|F(Z)|\\gamma,\\beta\\rangle$ is minimised so that our measurement of $|\\gamma,\\beta\\rangle$ in the computational basis gives a good solution $z$ for $F(z)$ with high probability."
   ],
   "metadata": {
    "collapsed": false
   },
   "id": "84a862d17160b386"
  },
  {
   "cell_type": "markdown",
   "source": [
    "In our case, we have defined $F(Z)=H_P$.\n",
    "\n",
    "### Defining the gamma unitary operations\n",
    "\n",
    "Our $H_P$ was formulated as a two-dimensional Ising model, hence it is of the form $\\sum_ih_iZ_i+\\sum_{i,j}J_{i,j}Z_iZ_j$, where $h_i$ and $J_{i,j}$ are determined by the coefficients of the primary and quadratic terms of the QUBO problem.\n",
    "\n",
    "Because $H_P$ is of this form, $e^{-i\\gamma H_p}$ may be implemented as a product of the individual single qubit terms $Z_i^{\\gamma h_i}$ and two qubit terms $(ZZ)_{ij}^{\\gamma J_{i,j}}$."
   ],
   "metadata": {
    "collapsed": false
   },
   "id": "9b9375163ba950b6"
  },
  {
   "cell_type": "code",
   "execution_count": 13,
   "outputs": [],
   "source": [
    "# More imports...\n",
    "import sympy\n",
    "import qsimcirq\n",
    "from scipy.optimize import minimize"
   ],
   "metadata": {
    "collapsed": false,
    "ExecuteTime": {
     "end_time": "2023-11-27T12:50:06.959314600Z",
     "start_time": "2023-11-27T12:50:06.944313400Z"
    }
   },
   "id": "fb5d634d1a109032"
  },
  {
   "cell_type": "code",
   "execution_count": 19,
   "outputs": [
    {
     "data": {
      "text/plain": "          ┌─────────────────────────────────┐   ┌─────────────────────────────────┐   ┌────────────────────────────────────┐                       ┌───────────────────────────────────┐                                                       ┌─────────────────────────────────┐   ┌─────────────────────────────────┐   ┌────────────────────────────────────┐                       ┌───────────────────────────────────┐                                                       ┌─────────────────────────────────┐   ┌─────────────────────────────────┐   ┌────────────────────────────────────┐                       ┌───────────────────────────────────┐                                                       ┌─────────────────────────────────┐   ┌─────────────────────────────────┐   ┌────────────────────────────────────┐                       ┌───────────────────────────────────┐                                                       ┌─────────────────────────────────┐   ┌─────────────────────────────────┐   ┌────────────────────────────────────┐                       ┌───────────────────────────────────┐                                                       ┌─────────────────────────────────┐   ┌─────────────────────────────────┐   ┌────────────────────────────────────┐                       ┌───────────────────────────────────┐                                                       ┌─────────────────────────────────┐   ┌─────────────────────────────────┐   ┌────────────────────────────────────┐                       ┌───────────────────────────────────┐                                                       ┌─────────────────────────────────┐   ┌─────────────────────────────────┐   ┌────────────────────────────────────┐                       ┌───────────────────────────────────┐                                                       ┌─────────────────────────────────┐   ┌─────────────────────────────────┐   ┌────────────────────────────────────┐                       ┌───────────────────────────────────┐                                                       ┌─────────────────────────────────┐   ┌─────────────────────────────────┐   ┌────────────────────────────────────┐                       ┌───────────────────────────────────┐\n0: ───H────ZZ────────────────────────────────────ZZ────────────────────────────────────ZZ──────────────────────────────────────Z^(9.0*gamma_0)─────────────────────────────────────────────ZZ───────────────────────────────────────X^beta_0────ZZ────────────────────────────────────ZZ────────────────────────────────────ZZ──────────────────────────────────────Z^(9.0*gamma_1)─────────────────────────────────────────────ZZ───────────────────────────────────────X^beta_1────ZZ────────────────────────────────────ZZ────────────────────────────────────ZZ──────────────────────────────────────Z^(9.0*gamma_2)─────────────────────────────────────────────ZZ───────────────────────────────────────X^beta_2────ZZ────────────────────────────────────ZZ────────────────────────────────────ZZ──────────────────────────────────────Z^(9.0*gamma_3)─────────────────────────────────────────────ZZ───────────────────────────────────────X^beta_3────ZZ────────────────────────────────────ZZ────────────────────────────────────ZZ──────────────────────────────────────Z^(9.0*gamma_4)─────────────────────────────────────────────ZZ───────────────────────────────────────X^beta_4────ZZ────────────────────────────────────ZZ────────────────────────────────────ZZ──────────────────────────────────────Z^(9.0*gamma_5)─────────────────────────────────────────────ZZ───────────────────────────────────────X^beta_5────ZZ────────────────────────────────────ZZ────────────────────────────────────ZZ──────────────────────────────────────Z^(9.0*gamma_6)─────────────────────────────────────────────ZZ───────────────────────────────────────X^beta_6────ZZ────────────────────────────────────ZZ────────────────────────────────────ZZ──────────────────────────────────────Z^(9.0*gamma_7)─────────────────────────────────────────────ZZ───────────────────────────────────────X^beta_7────ZZ────────────────────────────────────ZZ────────────────────────────────────ZZ──────────────────────────────────────Z^(9.0*gamma_8)─────────────────────────────────────────────ZZ───────────────────────────────────────X^beta_8────ZZ────────────────────────────────────ZZ────────────────────────────────────ZZ──────────────────────────────────────Z^(9.0*gamma_9)─────────────────────────────────────────────ZZ───────────────────────────────────────X^beta_9───\n           │                                     │                                     │                                                                                                   │                                                    │                                     │                                     │                                                                                                   │                                                    │                                     │                                     │                                                                                                   │                                                    │                                     │                                     │                                                                                                   │                                                    │                                     │                                     │                                                                                                   │                                                    │                                     │                                     │                                                                                                   │                                                    │                                     │                                     │                                                                                                   │                                                    │                                     │                                     │                                                                                                   │                                                    │                                     │                                     │                                                                                                   │                                                    │                                     │                                     │                                                                                                   │\n1: ───H────┼───────────────Z^(-32.0*gamma_0)─────┼─────────────────────────────────────┼─────────────────ZZ────────────────────ZZ───────────────────ZZ─────────────────────────────────────ZZ^(-13.5*gamma_0)───────────────────────X^beta_0────┼───────────────Z^(-32.0*gamma_1)─────┼─────────────────────────────────────┼─────────────────ZZ────────────────────ZZ───────────────────ZZ─────────────────────────────────────ZZ^(-13.5*gamma_1)───────────────────────X^beta_1────┼───────────────Z^(-32.0*gamma_2)─────┼─────────────────────────────────────┼─────────────────ZZ────────────────────ZZ───────────────────ZZ─────────────────────────────────────ZZ^(-13.5*gamma_2)───────────────────────X^beta_2────┼───────────────Z^(-32.0*gamma_3)─────┼─────────────────────────────────────┼─────────────────ZZ────────────────────ZZ───────────────────ZZ─────────────────────────────────────ZZ^(-13.5*gamma_3)───────────────────────X^beta_3────┼───────────────Z^(-32.0*gamma_4)─────┼─────────────────────────────────────┼─────────────────ZZ────────────────────ZZ───────────────────ZZ─────────────────────────────────────ZZ^(-13.5*gamma_4)───────────────────────X^beta_4────┼───────────────Z^(-32.0*gamma_5)─────┼─────────────────────────────────────┼─────────────────ZZ────────────────────ZZ───────────────────ZZ─────────────────────────────────────ZZ^(-13.5*gamma_5)───────────────────────X^beta_5────┼───────────────Z^(-32.0*gamma_6)─────┼─────────────────────────────────────┼─────────────────ZZ────────────────────ZZ───────────────────ZZ─────────────────────────────────────ZZ^(-13.5*gamma_6)───────────────────────X^beta_6────┼───────────────Z^(-32.0*gamma_7)─────┼─────────────────────────────────────┼─────────────────ZZ────────────────────ZZ───────────────────ZZ─────────────────────────────────────ZZ^(-13.5*gamma_7)───────────────────────X^beta_7────┼───────────────Z^(-32.0*gamma_8)─────┼─────────────────────────────────────┼─────────────────ZZ────────────────────ZZ───────────────────ZZ─────────────────────────────────────ZZ^(-13.5*gamma_8)───────────────────────X^beta_8────┼───────────────Z^(-32.0*gamma_9)─────┼─────────────────────────────────────┼─────────────────ZZ────────────────────ZZ───────────────────ZZ─────────────────────────────────────ZZ^(-13.5*gamma_9)───────────────────────X^beta_9───\n           │                                     │                                     │                 │                     │                    │                                                                                           │                                     │                                     │                 │                     │                    │                                                                                           │                                     │                                     │                 │                     │                    │                                                                                           │                                     │                                     │                 │                     │                    │                                                                                           │                                     │                                     │                 │                     │                    │                                                                                           │                                     │                                     │                 │                     │                    │                                                                                           │                                     │                                     │                 │                     │                    │                                                                                           │                                     │                                     │                 │                     │                    │                                                                                           │                                     │                                     │                 │                     │                    │                                                                                           │                                     │                                     │                 │                     │                    │\n2: ───H────ZZ^(3.5*gamma_0)──────────────────────┼────────────────Z^(16.0*gamma_0)─────┼─────────────────ZZ^(-29.0*gamma_0)────┼────────────────────┼────────────────ZZ────────────────────ZZ───────────────────────────────────────X^beta_0────ZZ^(3.5*gamma_1)──────────────────────┼────────────────Z^(16.0*gamma_1)─────┼─────────────────ZZ^(-29.0*gamma_1)────┼────────────────────┼────────────────ZZ────────────────────ZZ───────────────────────────────────────X^beta_1────ZZ^(3.5*gamma_2)──────────────────────┼────────────────Z^(16.0*gamma_2)─────┼─────────────────ZZ^(-29.0*gamma_2)────┼────────────────────┼────────────────ZZ────────────────────ZZ───────────────────────────────────────X^beta_2────ZZ^(3.5*gamma_3)──────────────────────┼────────────────Z^(16.0*gamma_3)─────┼─────────────────ZZ^(-29.0*gamma_3)────┼────────────────────┼────────────────ZZ────────────────────ZZ───────────────────────────────────────X^beta_3────ZZ^(3.5*gamma_4)──────────────────────┼────────────────Z^(16.0*gamma_4)─────┼─────────────────ZZ^(-29.0*gamma_4)────┼────────────────────┼────────────────ZZ────────────────────ZZ───────────────────────────────────────X^beta_4────ZZ^(3.5*gamma_5)──────────────────────┼────────────────Z^(16.0*gamma_5)─────┼─────────────────ZZ^(-29.0*gamma_5)────┼────────────────────┼────────────────ZZ────────────────────ZZ───────────────────────────────────────X^beta_5────ZZ^(3.5*gamma_6)──────────────────────┼────────────────Z^(16.0*gamma_6)─────┼─────────────────ZZ^(-29.0*gamma_6)────┼────────────────────┼────────────────ZZ────────────────────ZZ───────────────────────────────────────X^beta_6────ZZ^(3.5*gamma_7)──────────────────────┼────────────────Z^(16.0*gamma_7)─────┼─────────────────ZZ^(-29.0*gamma_7)────┼────────────────────┼────────────────ZZ────────────────────ZZ───────────────────────────────────────X^beta_7────ZZ^(3.5*gamma_8)──────────────────────┼────────────────Z^(16.0*gamma_8)─────┼─────────────────ZZ^(-29.0*gamma_8)────┼────────────────────┼────────────────ZZ────────────────────ZZ───────────────────────────────────────X^beta_8────ZZ^(3.5*gamma_9)──────────────────────┼────────────────Z^(16.0*gamma_9)─────┼─────────────────ZZ^(-29.0*gamma_9)────┼────────────────────┼────────────────ZZ────────────────────ZZ───────────────────────────────────────X^beta_9───\n                                                 │                                     │                                       │                    │                │                     │                                                                                          │                                     │                                       │                    │                │                     │                                                                                          │                                     │                                       │                    │                │                     │                                                                                          │                                     │                                       │                    │                │                     │                                                                                          │                                     │                                       │                    │                │                     │                                                                                          │                                     │                                       │                    │                │                     │                                                                                          │                                     │                                       │                    │                │                     │                                                                                          │                                     │                                       │                    │                │                     │                                                                                          │                                     │                                       │                    │                │                     │                                                                                          │                                     │                                       │                    │                │                     │\n3: ───H──────────────────────────────────────────ZZ^(18.0*gamma_0)─────────────────────┼─────────────────Z^(-4.0*gamma_0)──────ZZ^(19.5*gamma_0)────┼────────────────ZZ^(-31.5*gamma_0)────┼────────────────────ZZ──────────────────X^beta_0──────────────────────────────────────────ZZ^(18.0*gamma_1)─────────────────────┼─────────────────Z^(-4.0*gamma_1)──────ZZ^(19.5*gamma_1)────┼────────────────ZZ^(-31.5*gamma_1)────┼────────────────────ZZ──────────────────X^beta_1──────────────────────────────────────────ZZ^(18.0*gamma_2)─────────────────────┼─────────────────Z^(-4.0*gamma_2)──────ZZ^(19.5*gamma_2)────┼────────────────ZZ^(-31.5*gamma_2)────┼────────────────────ZZ──────────────────X^beta_2──────────────────────────────────────────ZZ^(18.0*gamma_3)─────────────────────┼─────────────────Z^(-4.0*gamma_3)──────ZZ^(19.5*gamma_3)────┼────────────────ZZ^(-31.5*gamma_3)────┼────────────────────ZZ──────────────────X^beta_3──────────────────────────────────────────ZZ^(18.0*gamma_4)─────────────────────┼─────────────────Z^(-4.0*gamma_4)──────ZZ^(19.5*gamma_4)────┼────────────────ZZ^(-31.5*gamma_4)────┼────────────────────ZZ──────────────────X^beta_4──────────────────────────────────────────ZZ^(18.0*gamma_5)─────────────────────┼─────────────────Z^(-4.0*gamma_5)──────ZZ^(19.5*gamma_5)────┼────────────────ZZ^(-31.5*gamma_5)────┼────────────────────ZZ──────────────────X^beta_5──────────────────────────────────────────ZZ^(18.0*gamma_6)─────────────────────┼─────────────────Z^(-4.0*gamma_6)──────ZZ^(19.5*gamma_6)────┼────────────────ZZ^(-31.5*gamma_6)────┼────────────────────ZZ──────────────────X^beta_6──────────────────────────────────────────ZZ^(18.0*gamma_7)─────────────────────┼─────────────────Z^(-4.0*gamma_7)──────ZZ^(19.5*gamma_7)────┼────────────────ZZ^(-31.5*gamma_7)────┼────────────────────ZZ──────────────────X^beta_7──────────────────────────────────────────ZZ^(18.0*gamma_8)─────────────────────┼─────────────────Z^(-4.0*gamma_8)──────ZZ^(19.5*gamma_8)────┼────────────────ZZ^(-31.5*gamma_8)────┼────────────────────ZZ──────────────────X^beta_8──────────────────────────────────────────ZZ^(18.0*gamma_9)─────────────────────┼─────────────────Z^(-4.0*gamma_9)──────ZZ^(19.5*gamma_9)────┼────────────────ZZ^(-31.5*gamma_9)────┼────────────────────ZZ──────────────────X^beta_9───\n                                                                                       │                                                            │                                      │                    │                                                                                                           │                                                            │                                      │                    │                                                                                                           │                                                            │                                      │                    │                                                                                                           │                                                            │                                      │                    │                                                                                                           │                                                            │                                      │                    │                                                                                                           │                                                            │                                      │                    │                                                                                                           │                                                            │                                      │                    │                                                                                                           │                                                            │                                      │                    │                                                                                                           │                                                            │                                      │                    │                                                                                                           │                                                            │                                      │                    │\n4: ───H────────────────────────────────────────────────────────────────────────────────ZZ^(-17.5*gamma_0)──────────────────────Z^(-33.5*gamma_0)────ZZ^(34.0*gamma_0)──────────────────────ZZ^(2.5*gamma_0)─────ZZ^(-4.5*gamma_0)───X^beta_0────────────────────────────────────────────────────────────────────────────────ZZ^(-17.5*gamma_1)──────────────────────Z^(-33.5*gamma_1)────ZZ^(34.0*gamma_1)──────────────────────ZZ^(2.5*gamma_1)─────ZZ^(-4.5*gamma_1)───X^beta_1────────────────────────────────────────────────────────────────────────────────ZZ^(-17.5*gamma_2)──────────────────────Z^(-33.5*gamma_2)────ZZ^(34.0*gamma_2)──────────────────────ZZ^(2.5*gamma_2)─────ZZ^(-4.5*gamma_2)───X^beta_2────────────────────────────────────────────────────────────────────────────────ZZ^(-17.5*gamma_3)──────────────────────Z^(-33.5*gamma_3)────ZZ^(34.0*gamma_3)──────────────────────ZZ^(2.5*gamma_3)─────ZZ^(-4.5*gamma_3)───X^beta_3────────────────────────────────────────────────────────────────────────────────ZZ^(-17.5*gamma_4)──────────────────────Z^(-33.5*gamma_4)────ZZ^(34.0*gamma_4)──────────────────────ZZ^(2.5*gamma_4)─────ZZ^(-4.5*gamma_4)───X^beta_4────────────────────────────────────────────────────────────────────────────────ZZ^(-17.5*gamma_5)──────────────────────Z^(-33.5*gamma_5)────ZZ^(34.0*gamma_5)──────────────────────ZZ^(2.5*gamma_5)─────ZZ^(-4.5*gamma_5)───X^beta_5────────────────────────────────────────────────────────────────────────────────ZZ^(-17.5*gamma_6)──────────────────────Z^(-33.5*gamma_6)────ZZ^(34.0*gamma_6)──────────────────────ZZ^(2.5*gamma_6)─────ZZ^(-4.5*gamma_6)───X^beta_6────────────────────────────────────────────────────────────────────────────────ZZ^(-17.5*gamma_7)──────────────────────Z^(-33.5*gamma_7)────ZZ^(34.0*gamma_7)──────────────────────ZZ^(2.5*gamma_7)─────ZZ^(-4.5*gamma_7)───X^beta_7────────────────────────────────────────────────────────────────────────────────ZZ^(-17.5*gamma_8)──────────────────────Z^(-33.5*gamma_8)────ZZ^(34.0*gamma_8)──────────────────────ZZ^(2.5*gamma_8)─────ZZ^(-4.5*gamma_8)───X^beta_8────────────────────────────────────────────────────────────────────────────────ZZ^(-17.5*gamma_9)──────────────────────Z^(-33.5*gamma_9)────ZZ^(34.0*gamma_9)──────────────────────ZZ^(2.5*gamma_9)─────ZZ^(-4.5*gamma_9)───X^beta_9───\n          └─────────────────────────────────┘   └─────────────────────────────────┘   └────────────────────────────────────┘                       └───────────────────────────────────┘                                                       └─────────────────────────────────┘   └─────────────────────────────────┘   └────────────────────────────────────┘                       └───────────────────────────────────┘                                                       └─────────────────────────────────┘   └─────────────────────────────────┘   └────────────────────────────────────┘                       └───────────────────────────────────┘                                                       └─────────────────────────────────┘   └─────────────────────────────────┘   └────────────────────────────────────┘                       └───────────────────────────────────┘                                                       └─────────────────────────────────┘   └─────────────────────────────────┘   └────────────────────────────────────┘                       └───────────────────────────────────┘                                                       └─────────────────────────────────┘   └─────────────────────────────────┘   └────────────────────────────────────┘                       └───────────────────────────────────┘                                                       └─────────────────────────────────┘   └─────────────────────────────────┘   └────────────────────────────────────┘                       └───────────────────────────────────┘                                                       └─────────────────────────────────┘   └─────────────────────────────────┘   └────────────────────────────────────┘                       └───────────────────────────────────┘                                                       └─────────────────────────────────┘   └─────────────────────────────────┘   └────────────────────────────────────┘                       └───────────────────────────────────┘                                                       └─────────────────────────────────┘   └─────────────────────────────────┘   └────────────────────────────────────┘                       └───────────────────────────────────┘",
      "text/html": "<pre style=\"overflow: auto; white-space: pre;\">          ┌─────────────────────────────────┐   ┌─────────────────────────────────┐   ┌────────────────────────────────────┐                       ┌───────────────────────────────────┐                                                       ┌─────────────────────────────────┐   ┌─────────────────────────────────┐   ┌────────────────────────────────────┐                       ┌───────────────────────────────────┐                                                       ┌─────────────────────────────────┐   ┌─────────────────────────────────┐   ┌────────────────────────────────────┐                       ┌───────────────────────────────────┐                                                       ┌─────────────────────────────────┐   ┌─────────────────────────────────┐   ┌────────────────────────────────────┐                       ┌───────────────────────────────────┐                                                       ┌─────────────────────────────────┐   ┌─────────────────────────────────┐   ┌────────────────────────────────────┐                       ┌───────────────────────────────────┐                                                       ┌─────────────────────────────────┐   ┌─────────────────────────────────┐   ┌────────────────────────────────────┐                       ┌───────────────────────────────────┐                                                       ┌─────────────────────────────────┐   ┌─────────────────────────────────┐   ┌────────────────────────────────────┐                       ┌───────────────────────────────────┐                                                       ┌─────────────────────────────────┐   ┌─────────────────────────────────┐   ┌────────────────────────────────────┐                       ┌───────────────────────────────────┐                                                       ┌─────────────────────────────────┐   ┌─────────────────────────────────┐   ┌────────────────────────────────────┐                       ┌───────────────────────────────────┐                                                       ┌─────────────────────────────────┐   ┌─────────────────────────────────┐   ┌────────────────────────────────────┐                       ┌───────────────────────────────────┐\n0: ───H────ZZ────────────────────────────────────ZZ────────────────────────────────────ZZ──────────────────────────────────────Z^(9.0*gamma_0)─────────────────────────────────────────────ZZ───────────────────────────────────────X^beta_0────ZZ────────────────────────────────────ZZ────────────────────────────────────ZZ──────────────────────────────────────Z^(9.0*gamma_1)─────────────────────────────────────────────ZZ───────────────────────────────────────X^beta_1────ZZ────────────────────────────────────ZZ────────────────────────────────────ZZ──────────────────────────────────────Z^(9.0*gamma_2)─────────────────────────────────────────────ZZ───────────────────────────────────────X^beta_2────ZZ────────────────────────────────────ZZ────────────────────────────────────ZZ──────────────────────────────────────Z^(9.0*gamma_3)─────────────────────────────────────────────ZZ───────────────────────────────────────X^beta_3────ZZ────────────────────────────────────ZZ────────────────────────────────────ZZ──────────────────────────────────────Z^(9.0*gamma_4)─────────────────────────────────────────────ZZ───────────────────────────────────────X^beta_4────ZZ────────────────────────────────────ZZ────────────────────────────────────ZZ──────────────────────────────────────Z^(9.0*gamma_5)─────────────────────────────────────────────ZZ───────────────────────────────────────X^beta_5────ZZ────────────────────────────────────ZZ────────────────────────────────────ZZ──────────────────────────────────────Z^(9.0*gamma_6)─────────────────────────────────────────────ZZ───────────────────────────────────────X^beta_6────ZZ────────────────────────────────────ZZ────────────────────────────────────ZZ──────────────────────────────────────Z^(9.0*gamma_7)─────────────────────────────────────────────ZZ───────────────────────────────────────X^beta_7────ZZ────────────────────────────────────ZZ────────────────────────────────────ZZ──────────────────────────────────────Z^(9.0*gamma_8)─────────────────────────────────────────────ZZ───────────────────────────────────────X^beta_8────ZZ────────────────────────────────────ZZ────────────────────────────────────ZZ──────────────────────────────────────Z^(9.0*gamma_9)─────────────────────────────────────────────ZZ───────────────────────────────────────X^beta_9───\n           │                                     │                                     │                                                                                                   │                                                    │                                     │                                     │                                                                                                   │                                                    │                                     │                                     │                                                                                                   │                                                    │                                     │                                     │                                                                                                   │                                                    │                                     │                                     │                                                                                                   │                                                    │                                     │                                     │                                                                                                   │                                                    │                                     │                                     │                                                                                                   │                                                    │                                     │                                     │                                                                                                   │                                                    │                                     │                                     │                                                                                                   │                                                    │                                     │                                     │                                                                                                   │\n1: ───H────┼───────────────Z^(-32.0*gamma_0)─────┼─────────────────────────────────────┼─────────────────ZZ────────────────────ZZ───────────────────ZZ─────────────────────────────────────ZZ^(-13.5*gamma_0)───────────────────────X^beta_0────┼───────────────Z^(-32.0*gamma_1)─────┼─────────────────────────────────────┼─────────────────ZZ────────────────────ZZ───────────────────ZZ─────────────────────────────────────ZZ^(-13.5*gamma_1)───────────────────────X^beta_1────┼───────────────Z^(-32.0*gamma_2)─────┼─────────────────────────────────────┼─────────────────ZZ────────────────────ZZ───────────────────ZZ─────────────────────────────────────ZZ^(-13.5*gamma_2)───────────────────────X^beta_2────┼───────────────Z^(-32.0*gamma_3)─────┼─────────────────────────────────────┼─────────────────ZZ────────────────────ZZ───────────────────ZZ─────────────────────────────────────ZZ^(-13.5*gamma_3)───────────────────────X^beta_3────┼───────────────Z^(-32.0*gamma_4)─────┼─────────────────────────────────────┼─────────────────ZZ────────────────────ZZ───────────────────ZZ─────────────────────────────────────ZZ^(-13.5*gamma_4)───────────────────────X^beta_4────┼───────────────Z^(-32.0*gamma_5)─────┼─────────────────────────────────────┼─────────────────ZZ────────────────────ZZ───────────────────ZZ─────────────────────────────────────ZZ^(-13.5*gamma_5)───────────────────────X^beta_5────┼───────────────Z^(-32.0*gamma_6)─────┼─────────────────────────────────────┼─────────────────ZZ────────────────────ZZ───────────────────ZZ─────────────────────────────────────ZZ^(-13.5*gamma_6)───────────────────────X^beta_6────┼───────────────Z^(-32.0*gamma_7)─────┼─────────────────────────────────────┼─────────────────ZZ────────────────────ZZ───────────────────ZZ─────────────────────────────────────ZZ^(-13.5*gamma_7)───────────────────────X^beta_7────┼───────────────Z^(-32.0*gamma_8)─────┼─────────────────────────────────────┼─────────────────ZZ────────────────────ZZ───────────────────ZZ─────────────────────────────────────ZZ^(-13.5*gamma_8)───────────────────────X^beta_8────┼───────────────Z^(-32.0*gamma_9)─────┼─────────────────────────────────────┼─────────────────ZZ────────────────────ZZ───────────────────ZZ─────────────────────────────────────ZZ^(-13.5*gamma_9)───────────────────────X^beta_9───\n           │                                     │                                     │                 │                     │                    │                                                                                           │                                     │                                     │                 │                     │                    │                                                                                           │                                     │                                     │                 │                     │                    │                                                                                           │                                     │                                     │                 │                     │                    │                                                                                           │                                     │                                     │                 │                     │                    │                                                                                           │                                     │                                     │                 │                     │                    │                                                                                           │                                     │                                     │                 │                     │                    │                                                                                           │                                     │                                     │                 │                     │                    │                                                                                           │                                     │                                     │                 │                     │                    │                                                                                           │                                     │                                     │                 │                     │                    │\n2: ───H────ZZ^(3.5*gamma_0)──────────────────────┼────────────────Z^(16.0*gamma_0)─────┼─────────────────ZZ^(-29.0*gamma_0)────┼────────────────────┼────────────────ZZ────────────────────ZZ───────────────────────────────────────X^beta_0────ZZ^(3.5*gamma_1)──────────────────────┼────────────────Z^(16.0*gamma_1)─────┼─────────────────ZZ^(-29.0*gamma_1)────┼────────────────────┼────────────────ZZ────────────────────ZZ───────────────────────────────────────X^beta_1────ZZ^(3.5*gamma_2)──────────────────────┼────────────────Z^(16.0*gamma_2)─────┼─────────────────ZZ^(-29.0*gamma_2)────┼────────────────────┼────────────────ZZ────────────────────ZZ───────────────────────────────────────X^beta_2────ZZ^(3.5*gamma_3)──────────────────────┼────────────────Z^(16.0*gamma_3)─────┼─────────────────ZZ^(-29.0*gamma_3)────┼────────────────────┼────────────────ZZ────────────────────ZZ───────────────────────────────────────X^beta_3────ZZ^(3.5*gamma_4)──────────────────────┼────────────────Z^(16.0*gamma_4)─────┼─────────────────ZZ^(-29.0*gamma_4)────┼────────────────────┼────────────────ZZ────────────────────ZZ───────────────────────────────────────X^beta_4────ZZ^(3.5*gamma_5)──────────────────────┼────────────────Z^(16.0*gamma_5)─────┼─────────────────ZZ^(-29.0*gamma_5)────┼────────────────────┼────────────────ZZ────────────────────ZZ───────────────────────────────────────X^beta_5────ZZ^(3.5*gamma_6)──────────────────────┼────────────────Z^(16.0*gamma_6)─────┼─────────────────ZZ^(-29.0*gamma_6)────┼────────────────────┼────────────────ZZ────────────────────ZZ───────────────────────────────────────X^beta_6────ZZ^(3.5*gamma_7)──────────────────────┼────────────────Z^(16.0*gamma_7)─────┼─────────────────ZZ^(-29.0*gamma_7)────┼────────────────────┼────────────────ZZ────────────────────ZZ───────────────────────────────────────X^beta_7────ZZ^(3.5*gamma_8)──────────────────────┼────────────────Z^(16.0*gamma_8)─────┼─────────────────ZZ^(-29.0*gamma_8)────┼────────────────────┼────────────────ZZ────────────────────ZZ───────────────────────────────────────X^beta_8────ZZ^(3.5*gamma_9)──────────────────────┼────────────────Z^(16.0*gamma_9)─────┼─────────────────ZZ^(-29.0*gamma_9)────┼────────────────────┼────────────────ZZ────────────────────ZZ───────────────────────────────────────X^beta_9───\n                                                 │                                     │                                       │                    │                │                     │                                                                                          │                                     │                                       │                    │                │                     │                                                                                          │                                     │                                       │                    │                │                     │                                                                                          │                                     │                                       │                    │                │                     │                                                                                          │                                     │                                       │                    │                │                     │                                                                                          │                                     │                                       │                    │                │                     │                                                                                          │                                     │                                       │                    │                │                     │                                                                                          │                                     │                                       │                    │                │                     │                                                                                          │                                     │                                       │                    │                │                     │                                                                                          │                                     │                                       │                    │                │                     │\n3: ───H──────────────────────────────────────────ZZ^(18.0*gamma_0)─────────────────────┼─────────────────Z^(-4.0*gamma_0)──────ZZ^(19.5*gamma_0)────┼────────────────ZZ^(-31.5*gamma_0)────┼────────────────────ZZ──────────────────X^beta_0──────────────────────────────────────────ZZ^(18.0*gamma_1)─────────────────────┼─────────────────Z^(-4.0*gamma_1)──────ZZ^(19.5*gamma_1)────┼────────────────ZZ^(-31.5*gamma_1)────┼────────────────────ZZ──────────────────X^beta_1──────────────────────────────────────────ZZ^(18.0*gamma_2)─────────────────────┼─────────────────Z^(-4.0*gamma_2)──────ZZ^(19.5*gamma_2)────┼────────────────ZZ^(-31.5*gamma_2)────┼────────────────────ZZ──────────────────X^beta_2──────────────────────────────────────────ZZ^(18.0*gamma_3)─────────────────────┼─────────────────Z^(-4.0*gamma_3)──────ZZ^(19.5*gamma_3)────┼────────────────ZZ^(-31.5*gamma_3)────┼────────────────────ZZ──────────────────X^beta_3──────────────────────────────────────────ZZ^(18.0*gamma_4)─────────────────────┼─────────────────Z^(-4.0*gamma_4)──────ZZ^(19.5*gamma_4)────┼────────────────ZZ^(-31.5*gamma_4)────┼────────────────────ZZ──────────────────X^beta_4──────────────────────────────────────────ZZ^(18.0*gamma_5)─────────────────────┼─────────────────Z^(-4.0*gamma_5)──────ZZ^(19.5*gamma_5)────┼────────────────ZZ^(-31.5*gamma_5)────┼────────────────────ZZ──────────────────X^beta_5──────────────────────────────────────────ZZ^(18.0*gamma_6)─────────────────────┼─────────────────Z^(-4.0*gamma_6)──────ZZ^(19.5*gamma_6)────┼────────────────ZZ^(-31.5*gamma_6)────┼────────────────────ZZ──────────────────X^beta_6──────────────────────────────────────────ZZ^(18.0*gamma_7)─────────────────────┼─────────────────Z^(-4.0*gamma_7)──────ZZ^(19.5*gamma_7)────┼────────────────ZZ^(-31.5*gamma_7)────┼────────────────────ZZ──────────────────X^beta_7──────────────────────────────────────────ZZ^(18.0*gamma_8)─────────────────────┼─────────────────Z^(-4.0*gamma_8)──────ZZ^(19.5*gamma_8)────┼────────────────ZZ^(-31.5*gamma_8)────┼────────────────────ZZ──────────────────X^beta_8──────────────────────────────────────────ZZ^(18.0*gamma_9)─────────────────────┼─────────────────Z^(-4.0*gamma_9)──────ZZ^(19.5*gamma_9)────┼────────────────ZZ^(-31.5*gamma_9)────┼────────────────────ZZ──────────────────X^beta_9───\n                                                                                       │                                                            │                                      │                    │                                                                                                           │                                                            │                                      │                    │                                                                                                           │                                                            │                                      │                    │                                                                                                           │                                                            │                                      │                    │                                                                                                           │                                                            │                                      │                    │                                                                                                           │                                                            │                                      │                    │                                                                                                           │                                                            │                                      │                    │                                                                                                           │                                                            │                                      │                    │                                                                                                           │                                                            │                                      │                    │                                                                                                           │                                                            │                                      │                    │\n4: ───H────────────────────────────────────────────────────────────────────────────────ZZ^(-17.5*gamma_0)──────────────────────Z^(-33.5*gamma_0)────ZZ^(34.0*gamma_0)──────────────────────ZZ^(2.5*gamma_0)─────ZZ^(-4.5*gamma_0)───X^beta_0────────────────────────────────────────────────────────────────────────────────ZZ^(-17.5*gamma_1)──────────────────────Z^(-33.5*gamma_1)────ZZ^(34.0*gamma_1)──────────────────────ZZ^(2.5*gamma_1)─────ZZ^(-4.5*gamma_1)───X^beta_1────────────────────────────────────────────────────────────────────────────────ZZ^(-17.5*gamma_2)──────────────────────Z^(-33.5*gamma_2)────ZZ^(34.0*gamma_2)──────────────────────ZZ^(2.5*gamma_2)─────ZZ^(-4.5*gamma_2)───X^beta_2────────────────────────────────────────────────────────────────────────────────ZZ^(-17.5*gamma_3)──────────────────────Z^(-33.5*gamma_3)────ZZ^(34.0*gamma_3)──────────────────────ZZ^(2.5*gamma_3)─────ZZ^(-4.5*gamma_3)───X^beta_3────────────────────────────────────────────────────────────────────────────────ZZ^(-17.5*gamma_4)──────────────────────Z^(-33.5*gamma_4)────ZZ^(34.0*gamma_4)──────────────────────ZZ^(2.5*gamma_4)─────ZZ^(-4.5*gamma_4)───X^beta_4────────────────────────────────────────────────────────────────────────────────ZZ^(-17.5*gamma_5)──────────────────────Z^(-33.5*gamma_5)────ZZ^(34.0*gamma_5)──────────────────────ZZ^(2.5*gamma_5)─────ZZ^(-4.5*gamma_5)───X^beta_5────────────────────────────────────────────────────────────────────────────────ZZ^(-17.5*gamma_6)──────────────────────Z^(-33.5*gamma_6)────ZZ^(34.0*gamma_6)──────────────────────ZZ^(2.5*gamma_6)─────ZZ^(-4.5*gamma_6)───X^beta_6────────────────────────────────────────────────────────────────────────────────ZZ^(-17.5*gamma_7)──────────────────────Z^(-33.5*gamma_7)────ZZ^(34.0*gamma_7)──────────────────────ZZ^(2.5*gamma_7)─────ZZ^(-4.5*gamma_7)───X^beta_7────────────────────────────────────────────────────────────────────────────────ZZ^(-17.5*gamma_8)──────────────────────Z^(-33.5*gamma_8)────ZZ^(34.0*gamma_8)──────────────────────ZZ^(2.5*gamma_8)─────ZZ^(-4.5*gamma_8)───X^beta_8────────────────────────────────────────────────────────────────────────────────ZZ^(-17.5*gamma_9)──────────────────────Z^(-33.5*gamma_9)────ZZ^(34.0*gamma_9)──────────────────────ZZ^(2.5*gamma_9)─────ZZ^(-4.5*gamma_9)───X^beta_9───\n          └─────────────────────────────────┘   └─────────────────────────────────┘   └────────────────────────────────────┘                       └───────────────────────────────────┘                                                       └─────────────────────────────────┘   └─────────────────────────────────┘   └────────────────────────────────────┘                       └───────────────────────────────────┘                                                       └─────────────────────────────────┘   └─────────────────────────────────┘   └────────────────────────────────────┘                       └───────────────────────────────────┘                                                       └─────────────────────────────────┘   └─────────────────────────────────┘   └────────────────────────────────────┘                       └───────────────────────────────────┘                                                       └─────────────────────────────────┘   └─────────────────────────────────┘   └────────────────────────────────────┘                       └───────────────────────────────────┘                                                       └─────────────────────────────────┘   └─────────────────────────────────┘   └────────────────────────────────────┘                       └───────────────────────────────────┘                                                       └─────────────────────────────────┘   └─────────────────────────────────┘   └────────────────────────────────────┘                       └───────────────────────────────────┘                                                       └─────────────────────────────────┘   └─────────────────────────────────┘   └────────────────────────────────────┘                       └───────────────────────────────────┘                                                       └─────────────────────────────────┘   └─────────────────────────────────┘   └────────────────────────────────────┘                       └───────────────────────────────────┘                                                       └─────────────────────────────────┘   └─────────────────────────────────┘   └────────────────────────────────────┘                       └───────────────────────────────────┘</pre>"
     },
     "metadata": {},
     "output_type": "display_data"
    }
   ],
   "source": [
    "# Building the circuit.\n",
    "p = 10\n",
    "\n",
    "# Get references to the qubits used in the Hamiltonian's definition.\n",
    "qubits = H.qubits\n",
    "\n",
    "# Sub-circuit implementing the gamma unitary operator for the i-th layer.\n",
    "def generate_gamma_operator(i):\n",
    "    # Define the gamma symbol (as a placeholder).\n",
    "    gamma = sympy.Symbol(f'gamma_{i}')\n",
    "    \n",
    "    # Define the Pauli operators as dense Pauli strings (for recognising terms).\n",
    "    Z = cirq.DensePauliString('Z')\n",
    "    ZZ = cirq.DensePauliString('ZZ')\n",
    "    I = cirq.DensePauliString('')\n",
    "    \n",
    "    # Consider each term in the Hamiltonian.\n",
    "    for term in H:\n",
    "        # Get the term's operator.\n",
    "        term_operator = term.with_coefficient(1).gate\n",
    "        \n",
    "        # Determine which circuit translation to make, based on which operator this term has.\n",
    "        if term_operator == Z:\n",
    "            yield cirq.Z(*term.qubits) ** (gamma * term.coefficient)\n",
    "        elif term_operator == ZZ:\n",
    "            yield cirq.ZZ(*term.qubits) ** (gamma * term.coefficient)\n",
    "        elif term_operator == I:\n",
    "            yield []\n",
    "            \n",
    "        # If the term's operator is unrecognised, the Hamiltonian isn't quite right.\n",
    "        else:\n",
    "            raise Exception(f'Unrecognised term in H: {term}')\n",
    "        \n",
    "# Sub-circuit implementing the beta unitary (\"mixing\") operator for the i-th layer.\n",
    "def generate_beta_operator(i):\n",
    "    # Define the beta symbol (as a placeholder).\n",
    "    beta = sympy.Symbol(f'beta_{i}')\n",
    "    \n",
    "    return [cirq.X(q) ** beta for q in qubits]\n",
    "\n",
    "# Generate the circuit for QAOA.\n",
    "qaoa_circuit = cirq.Circuit(\n",
    "    # Preparation of uniform superposition.\n",
    "    cirq.H.on_each(*qubits),\n",
    "    \n",
    "    # p layers of repeated U(gamma, H) and U(beta, B) operations.\n",
    "    [(generate_gamma_operator(i), cirq.Moment(generate_beta_operator(i)),) for i in range(p)],\n",
    ")\n",
    "\n",
    "display(qaoa_circuit)"
   ],
   "metadata": {
    "collapsed": false,
    "ExecuteTime": {
     "end_time": "2023-11-27T12:50:58.649124900Z",
     "start_time": "2023-11-27T12:50:58.401203700Z"
    }
   },
   "id": "8f6627a2541fe3f4"
  },
  {
   "cell_type": "code",
   "execution_count": 20,
   "outputs": [
    {
     "data": {
      "text/plain": "  message: Optimization terminated successfully.\n  success: True\n   status: 0\n      fun: 292.0\n        x: [ 0.000e+00  0.000e+00 ...  0.000e+00  0.000e+00]\n      nit: 0\n      jac: [ 0.000e+00  0.000e+00 ...  0.000e+00  0.000e+00]\n hess_inv: [[1 0 ... 0 0]\n            [0 1 ... 0 0]\n            ...\n            [0 0 ... 1 0]\n            [0 0 ... 0 1]]\n     nfev: 21\n     njev: 1"
     },
     "metadata": {},
     "output_type": "display_data"
    },
    {
     "name": "stdout",
     "output_type": "stream",
     "text": [
      "\n",
      "Optimal parameters: cirq.ParamResolver({'beta_0': 0.0, 'beta_1': 0.0, 'beta_2': 0.0, 'beta_3': 0.0, 'beta_4': 0.0, 'beta_5': 0.0, 'beta_6': 0.0, 'beta_7': 0.0, 'beta_8': 0.0, 'beta_9': 0.0, 'gamma_0': 0.0, 'gamma_1': 0.0, 'gamma_2': 0.0, 'gamma_3': 0.0, 'gamma_4': 0.0, 'gamma_5': 0.0, 'gamma_6': 0.0, 'gamma_7': 0.0, 'gamma_8': 0.0, 'gamma_9': 0.0})\n"
     ]
    }
   ],
   "source": [
    "# Finding the optimal parameters for the circuit.\n",
    "\n",
    "# Get the parameters and observables out of the circuit.\n",
    "parameter_names = sorted(cirq.parameter_names(qaoa_circuit))\n",
    "observables = [term.with_coefficient(1) for term in H]\n",
    "\n",
    "# Define the function to minimise.\n",
    "def func_to_minimise(x):\n",
    "    # Define a \"parameter resolver\" object, which we can use to assign values to parameters.\n",
    "    parameter_resolver = cirq.ParamResolver(\n",
    "        # Map each parameter to a value (i.e. assign the circuit's parameters).\n",
    "        {parameter: value for parameter, value in zip(parameter_names, x)}\n",
    "    )\n",
    "    \n",
    "    # Define a circuit simulator.\n",
    "    simulator = qsimcirq.QSimSimulator(\n",
    "        # Pass in some options for the simulator object -- this needs another object, it seems.\n",
    "        qsimcirq.QSimOptions(\n",
    "             # Cannot use GPU without compiling qsim locally -- maybe another time.\n",
    "             use_gpu=False,\n",
    "             # My PC has 8 cores, so set 8 threads.\n",
    "             cpu_threads=8,\n",
    "             verbosity=0\n",
    "        )\n",
    "    )\n",
    "    \n",
    "    # Simulate the expectation value.\n",
    "    expectation = simulator.simulate_expectation_values(\n",
    "        program=qaoa_circuit, observables=observables, param_resolver=parameter_resolver\n",
    "    )\n",
    "    \n",
    "    # Compute the return.\n",
    "    return sum(term.coefficient * value for term, value in zip(H, expectation)).real\n",
    "\n",
    "# Let our initial guess be all zeros -- we don't know any better.\n",
    "x_initial = np.asarray([.0] * len(parameter_names))\n",
    "\n",
    "# Find the parameters values that minimise the expectation value.\n",
    "optimal_parameter_values = minimize(func_to_minimise, x_initial, method='BFGS')\n",
    "display(optimal_parameter_values)\n",
    "\n",
    "# Stick the parameter values in a parameter resolver object.\n",
    "optimal_parameters = cirq.ParamResolver(\n",
    "    {parameter: value for parameter, value in zip(parameter_names, optimal_parameter_values.x)}\n",
    ")\n",
    "print(f'\\nOptimal parameters: {optimal_parameters}')"
   ],
   "metadata": {
    "collapsed": false,
    "ExecuteTime": {
     "end_time": "2023-11-27T12:51:06.091373100Z",
     "start_time": "2023-11-27T12:51:04.082909800Z"
    }
   },
   "id": "453430778b5d37eb"
  },
  {
   "cell_type": "code",
   "execution_count": 2,
   "outputs": [
    {
     "ename": "NameError",
     "evalue": "name 'qsimcirq' is not defined",
     "output_type": "error",
     "traceback": [
      "\u001B[0;31m---------------------------------------------------------------------------\u001B[0m",
      "\u001B[0;31mNameError\u001B[0m                                 Traceback (most recent call last)",
      "Cell \u001B[0;32mIn[2], line 5\u001B[0m\n\u001B[1;32m      2\u001B[0m runs \u001B[38;5;241m=\u001B[39m \u001B[38;5;241m10000\u001B[39m\n\u001B[1;32m      4\u001B[0m \u001B[38;5;66;03m# Define a circuit simulator.\u001B[39;00m\n\u001B[0;32m----> 5\u001B[0m simulator \u001B[38;5;241m=\u001B[39m \u001B[43mqsimcirq\u001B[49m\u001B[38;5;241m.\u001B[39mQSimSimulator(\n\u001B[1;32m      6\u001B[0m     qsimcirq\u001B[38;5;241m.\u001B[39mQSimOptions(\n\u001B[1;32m      7\u001B[0m          use_gpu\u001B[38;5;241m=\u001B[39m\u001B[38;5;28;01mFalse\u001B[39;00m,\n\u001B[1;32m      8\u001B[0m          cpu_threads\u001B[38;5;241m=\u001B[39m\u001B[38;5;241m8\u001B[39m,\n\u001B[1;32m      9\u001B[0m          verbosity\u001B[38;5;241m=\u001B[39m\u001B[38;5;241m0\u001B[39m\n\u001B[1;32m     10\u001B[0m     )\n\u001B[1;32m     11\u001B[0m )\n\u001B[1;32m     13\u001B[0m \u001B[38;5;66;03m# Add a measurement operator at the very end (across all qubits).\u001B[39;00m\n\u001B[1;32m     14\u001B[0m qaoa_circuit_with_measurement \u001B[38;5;241m=\u001B[39m qaoa_circuit \u001B[38;5;241m+\u001B[39m cirq\u001B[38;5;241m.\u001B[39mCircuit(cirq\u001B[38;5;241m.\u001B[39mmeasure(H\u001B[38;5;241m.\u001B[39mqubits, key\u001B[38;5;241m=\u001B[39m\u001B[38;5;124m'\u001B[39m\u001B[38;5;124mm\u001B[39m\u001B[38;5;124m'\u001B[39m))\n",
      "\u001B[0;31mNameError\u001B[0m: name 'qsimcirq' is not defined"
     ]
    }
   ],
   "source": [
    "# Sample solutions several times from the circuit with these optimal parameters.\n",
    "runs = 10000\n",
    "\n",
    "# Define a circuit simulator.\n",
    "simulator = qsimcirq.QSimSimulator(\n",
    "    qsimcirq.QSimOptions(\n",
    "         use_gpu=False,\n",
    "         cpu_threads=8,\n",
    "         verbosity=0\n",
    "    )\n",
    ")\n",
    "\n",
    "# Add a measurement operator at the very end (across all qubits).\n",
    "qaoa_circuit_with_measurement = qaoa_circuit + cirq.Circuit(cirq.measure(H.qubits, key='m'))\n",
    "\n",
    "# Run the circuit a bunch.\n",
    "measurement_outcomes = simulator.run(\n",
    "    qaoa_circuit_with_measurement, param_resolver=optimal_parameters, repetitions=runs\n",
    ")\n",
    "\n",
    "# Save the results into a histogram-like dictionary.\n",
    "results = measurement_outcomes.histogram(key='m')\n",
    "print(f'Top three measurements (solution, frequency): {results.most_common(3)}')\n",
    "\n",
    "# Pull out the solutions and their frequency in the simulation measurements, in descending order.\n",
    "solutions, frequencies = zip(*results.most_common(len(results)))"
   ],
   "metadata": {
    "collapsed": false,
    "ExecuteTime": {
     "end_time": "2023-11-27T13:00:21.397177900Z",
     "start_time": "2023-11-27T13:00:21.383653900Z"
    }
   },
   "id": "addcb280b9a0209e"
  },
  {
   "cell_type": "markdown",
   "source": [
    "### Converting QAOA solutions to lattice vectors"
   ],
   "metadata": {
    "collapsed": false
   },
   "id": "67fe57985813509f"
  },
  {
   "cell_type": "code",
   "execution_count": 22,
   "outputs": [],
   "source": [
    "# Helper function to convert integers to n-bit binary.\n",
    "def integer_to_binary_n(x):\n",
    "    assert x < 2 ** n, f'Cannot convert {x} to {n}-bit binary.'\n",
    " \n",
    "    # Convert to a binary string.\n",
    "    x_as_bin = bin(x)[2:]\n",
    "    \n",
    "    # Prefix with 0s to bring to length n.\n",
    "    if len(x_as_bin) != n:\n",
    "        prefix = '0' * (n - len(x_as_bin))\n",
    "        return prefix + x_as_bin\n",
    "    else:\n",
    "        return x_as_bin"
   ],
   "metadata": {
    "collapsed": false,
    "ExecuteTime": {
     "end_time": "2023-11-27T12:51:26.781143600Z",
     "start_time": "2023-11-27T12:51:26.757141200Z"
    }
   },
   "id": "81d3cd0bed42320a"
  },
  {
   "cell_type": "code",
   "execution_count": 33,
   "outputs": [
    {
     "name": "stdout",
     "output_type": "stream",
     "text": [
      "[  6 -4  6  4 -2  -3 ]\n",
      "[ -8 -3  6 -2  2   5 ]\n",
      "[  2 11  3  0 -6  -3 ]\n",
      "[ -4 -5  0 12 -2   4 ]\n",
      "[ -4 -3 -3  4  1 -17 ]\n"
     ]
    }
   ],
   "source": [
    "D_temp = IntegerMatrix(D.shape[1], D.shape[0])\n",
    "for i in range(D.shape[1]):\n",
    "    for j in range(D.shape[0]):\n",
    "        D_temp[i, j] = int(D[j, i])\n",
    "        \n",
    "print(D_temp)"
   ],
   "metadata": {
    "collapsed": false,
    "ExecuteTime": {
     "end_time": "2023-11-27T12:55:55.367582700Z",
     "start_time": "2023-11-27T12:55:55.301047400Z"
    }
   },
   "id": "1530b1a3298f076a"
  },
  {
   "cell_type": "code",
   "execution_count": 1,
   "outputs": [
    {
     "ename": "NameError",
     "evalue": "name 'solutions' is not defined",
     "output_type": "error",
     "traceback": [
      "\u001B[0;31m---------------------------------------------------------------------------\u001B[0m",
      "\u001B[0;31mNameError\u001B[0m                                 Traceback (most recent call last)",
      "Cell \u001B[0;32mIn[1], line 14\u001B[0m\n\u001B[1;32m     11\u001B[0m     \u001B[38;5;66;03m# Yield the new vector.\u001B[39;00m\n\u001B[1;32m     12\u001B[0m     \u001B[38;5;28;01mreturn\u001B[39;00m np\u001B[38;5;241m.\u001B[39marray(D_temp\u001B[38;5;241m.\u001B[39mmultiply_left(w_new))\n\u001B[0;32m---> 14\u001B[0m solution_to_vector(\u001B[43msolutions\u001B[49m[\u001B[38;5;241m0\u001B[39m])\n",
      "\u001B[0;31mNameError\u001B[0m: name 'solutions' is not defined"
     ]
    }
   ],
   "source": [
    "# Convert an integer solution to a lattice vector.\n",
    "def solution_to_vector(solution):\n",
    "    # Convert the solution to a binary string of assignments.\n",
    "    assignments = integer_to_binary_n(solution)\n",
    "    \n",
    "    # Use the assignments to step in each reduced basis from b_op.\n",
    "    w_new = np.zeros(shape=(n, 1))\n",
    "    for i, sign in enumerate(step_signs):\n",
    "        w_new[i] = w[i] + (int(assignments[i]) * sign)\n",
    "        \n",
    "    # Yield the new vector.\n",
    "    return np.array(D_temp.multiply_left(w_new))\n",
    "        \n",
    "solution_to_vector(solutions[0])"
   ],
   "metadata": {
    "collapsed": false,
    "ExecuteTime": {
     "end_time": "2023-11-27T13:00:15.858735900Z",
     "start_time": "2023-11-27T13:00:15.727573Z"
    }
   },
   "id": "3c7ef09152531c4f"
  },
  {
   "cell_type": "markdown",
   "source": [],
   "metadata": {
    "collapsed": false
   },
   "id": "739e309c25082abf"
  }
 ],
 "metadata": {
  "kernelspec": {
   "display_name": "Python 3",
   "language": "python",
   "name": "python3"
  },
  "language_info": {
   "codemirror_mode": {
    "name": "ipython",
    "version": 2
   },
   "file_extension": ".py",
   "mimetype": "text/x-python",
   "name": "python",
   "nbconvert_exporter": "python",
   "pygments_lexer": "ipython2",
   "version": "2.7.6"
  }
 },
 "nbformat": 4,
 "nbformat_minor": 5
}
