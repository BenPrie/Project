{
 "cells": [
  {
   "cell_type": "code",
   "execution_count": 1,
   "metadata": {},
   "outputs": [],
   "source": [
    "# Imports as always...\n",
    "import numpy as np\n",
    "from sqif import CVP, solve_cvp, integer_matrix_to_numpy, primes\n",
    "\n",
    "# Ignore warnings.\n",
    "import warnings\n",
    "warnings.filterwarnings('ignore')"
   ]
  },
  {
   "cell_type": "markdown",
   "metadata": {},
   "source": [
    "First, we need some lattice vectors obtained as solutions to the CVP."
   ]
  },
  {
   "cell_type": "code",
   "execution_count": 35,
   "metadata": {},
   "outputs": [
    {
     "name": "stdout",
     "output_type": "stream",
     "text": [
      "[  3   5   0 241] with p=0.328; dist. to t: 5.916 [Better]\n",
      "[  0   4   4 242] with p=0.277; dist. to t: 6.000 [Approx. solution]\n",
      "[  3   2   4 238] with p=0.260; dist. to t: 5.745 [Better]\n",
      "[ -1   6   2 239] with p=0.097; dist. to t: 6.481 \n",
      "[  4   3   2 244] with p=0.025; dist. to t: 6.708 \n",
      "[  7   1   2 240] with p=0.005; dist. to t: 7.348 \n",
      "[  6   3   0 237] with p=0.004; dist. to t: 7.348 \n",
      "[  2   4   2 235] with p=0.004; dist. to t: 7.000 \n"
     ]
    }
   ],
   "source": [
    "cvp = CVP()\n",
    "\n",
    "N = 1961\n",
    "cvp.generate_cvp(N=N, l=1, c=1.5, seed=42)\n",
    "\n",
    "lattice_vectors, outcome_probabilities, b_op = solve_cvp(\n",
    "    cvp, n_samples=10000, delta=.75, p=1, min_method='Nelder-Mead', verbose=False\n",
    ")\n",
    "\n",
    "b_op_dist_to_t = np.linalg.norm(b_op - cvp.t)\n",
    "for out, prob in zip(lattice_vectors, outcome_probabilities):\n",
    "    extra = ''\n",
    "    dist_to_t = np.linalg.norm(out - cvp.t)\n",
    "    if np.all(out == b_op):\n",
    "        extra = '[Approx. solution]'\n",
    "    elif dist_to_t < b_op_dist_to_t:\n",
    "        extra = '[Better]'\n",
    "        \n",
    "    print(f'{out} with p={prob:.3f}; dist. to t: {dist_to_t:.3f} {extra}')"
   ]
  },
  {
   "cell_type": "markdown",
   "metadata": {},
   "source": [
    "Then we reduce these lattice vectors to $u,v$ pairs."
   ]
  },
  {
   "cell_type": "code",
   "execution_count": 41,
   "metadata": {},
   "outputs": [
    {
     "name": "stdout",
     "output_type": "stream",
     "text": [
      "Prime exponents:\n",
      "[[ 3  5  0]\n",
      " [ 0  4  2]\n",
      " [ 3  2  2]\n",
      " [-1  6  1]\n",
      " [ 4  3  1]\n",
      " [ 7  1  1]\n",
      " [ 6  3  0]\n",
      " [ 2  4  1]]\n"
     ]
    },
    {
     "data": {
      "text/plain": [
       "array([[1944,    1],\n",
       "       [2025,    1],\n",
       "       [1800,    1],\n",
       "       [3645,    2],\n",
       "       [2160,    1],\n",
       "       [1920,    1],\n",
       "       [1728,    1],\n",
       "       [1620,    1]])"
      ]
     },
     "execution_count": 41,
     "metadata": {},
     "output_type": "execute_result"
    }
   ],
   "source": [
    "def lattice_vectors_to_u_v_pairs(lattice_vectors, B):\n",
    "    \"\"\"\n",
    "    Reduce a set of lattice vectors to a set of u, v pairs.\n",
    "\n",
    "    :param lattice_vectors: numpy.ndarray of lattice vectors.\n",
    "    :param B: (numpy.ndarray) The basis matrix of the prime lattice. \n",
    "    \"\"\"\n",
    "\n",
    "    # Compute the pseudo-inverse of the prime lattice's basis matrix.\n",
    "    B_pinv = np.linalg.pinv(np.asarray(B, dtype=int))\n",
    "\n",
    "    # Left-multiply the lattice vectors by this pseudo-inverse to yield the prime expnents.\n",
    "    # Round these to the nearest integer (integer pairs only!).\n",
    "    prime_exponents = np.rint(lattice_vectors @ B_pinv.T).astype(int)\n",
    "    print(f'Prime exponents:\\n{prime_exponents}')\n",
    "\n",
    "    # Find the smooth pairs corresponding to these exponents.\n",
    "    first_n_primes = primes[:prime_exponents.shape[1]]\n",
    "    u_exp = np.multiply(prime_exponents, (prime_exponents > 0).astype(int))\n",
    "    v_exp = np.multiply(-prime_exponents, (prime_exponents < 0).astype(int))\n",
    "    u = np.prod(np.power(first_n_primes, u_exp), axis=1)\n",
    "    v = np.prod(np.power(first_n_primes, v_exp), axis=1)\n",
    "\n",
    "    return np.stack((u, v), axis=-1)\n",
    "\n",
    "u_v_pairs = lattice_vectors_to_u_v_pairs(lattice_vectors, integer_matrix_to_numpy(cvp.B))\n",
    "u_v_pairs"
   ]
  },
  {
   "cell_type": "markdown",
   "metadata": {},
   "source": [
    "Then we reduce these $u,v$ pairs to smooth-relation pairs."
   ]
  },
  {
   "cell_type": "code",
   "execution_count": 37,
   "metadata": {},
   "outputs": [
    {
     "data": {
      "text/plain": [
       "[(2025, 1)]"
      ]
     },
     "execution_count": 37,
     "metadata": {},
     "output_type": "execute_result"
    }
   ],
   "source": [
    "# Helper function.\n",
    "def is_smooth(x, smooth_bound):\n",
    "    first_n_primes = primes[:smooth_bound]\n",
    "\n",
    "    for p in first_n_primes:\n",
    "        while x % p == 0:\n",
    "            x //= p\n",
    "\n",
    "    return x == 1\n",
    "\n",
    "def u_v_pairs_to_sr_pairs(u_v_pairs, N, smooth_bound):\n",
    "    \"\"\"\n",
    "    Reduce a set of u, v pairs into smooth-relation pairs below a given smooth bound.\n",
    "    \n",
    "    :param u_v_pairs: numpy.ndarray of u, v pairs.\n",
    "    :param N: Semi-prime to be factored.\n",
    "    :param smooth_bound: The smooth bound (for alpha = 1, the lattice dimension).\n",
    "    \"\"\"\n",
    "    \n",
    "    # Give back the u, v pairs that form smooth-relation pairs under the given smooth bound.\n",
    "    return [\n",
    "        tuple(u_v) \n",
    "        for u_v in u_v_pairs\n",
    "        if is_smooth(\n",
    "            # | u - N*v | must be p_n-smooth, for given smooth bound p_n.\n",
    "            abs(int(u_v[0]) - N * int(u_v[1])), smooth_bound\n",
    "        )\n",
    "    ]\n",
    "\n",
    "# See equation (S11) in Yan et al. (2022) for the definition of the smoothness bound.\n",
    "# In particular, we take alpha = 1, as they suggest.\n",
    "smooth_bound = (np.log2(N) / np.log2(np.log2(N))).astype(int)\n",
    "# This gives the lattice dimension.\n",
    "\n",
    "u_v_pairs_to_sr_pairs(u_v_pairs, N, smooth_bound)"
   ]
  },
  {
   "cell_type": "markdown",
   "metadata": {},
   "source": [
    "These found smooth-relation pairs are then involved in a system of linear equations, so we require at least ? sr-pairs."
   ]
  }
 ],
 "metadata": {
  "kernelspec": {
   "display_name": "project-env",
   "language": "python",
   "name": "python3"
  },
  "language_info": {
   "codemirror_mode": {
    "name": "ipython",
    "version": 3
   },
   "file_extension": ".py",
   "mimetype": "text/x-python",
   "name": "python",
   "nbconvert_exporter": "python",
   "pygments_lexer": "ipython3",
   "version": "3.11.5"
  }
 },
 "nbformat": 4,
 "nbformat_minor": 2
}
