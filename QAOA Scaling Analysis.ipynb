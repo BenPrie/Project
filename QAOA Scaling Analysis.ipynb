{
 "cells": [
  {
   "cell_type": "code",
   "execution_count": 75,
   "id": "initial_id",
   "metadata": {
    "collapsed": true,
    "ExecuteTime": {
     "end_time": "2024-02-07T22:10:56.006689700Z",
     "start_time": "2024-02-07T22:10:56.001683200Z"
    }
   },
   "outputs": [],
   "source": [
    "# Imports, as always...\n",
    "import time\n",
    "\n",
    "import cirq\n",
    "import numpy as np\n",
    "from math import log2\n",
    "import matplotlib.pyplot as plt \n",
    "import seaborn as sns\n",
    "import pandas as pd\n",
    "import pickle\n",
    "\n",
    "# For generating prime numbers.\n",
    "from Crypto.Util import number\n",
    "\n",
    "# Notebook progress bars.\n",
    "from tqdm.notebook import tqdm\n",
    "\n",
    "from sqif import CVP, solve_cvp\n",
    "\n",
    "# Ignoring warnings.\n",
    "import warnings\n",
    "warnings.filterwarnings('ignore')\n",
    "\n",
    "# Additional imports.\n",
    "from scipy.optimize import curve_fit, least_squares\n",
    "\n",
    "# Scaling to fit to.\n",
    "def scaling_function(x, alpha):\n",
    "    return 1 / (2 ** (alpha * x))\n",
    "\n",
    "# Styling for plots.\n",
    "#plt.style.use('ggplot')\n",
    "palette = 'deep'\n",
    "sns.set_theme(style='darkgrid', palette=palette)"
   ]
  },
  {
   "cell_type": "markdown",
   "source": [
    "# QAOA Scaling Analysis\n",
    "\n",
    "This is a second, cleaner analysis of the analysis in *VQAs for CVP*. This will focus on \"pre-training\" (or, as it is sometimes called \"fixed angles\") with QAOA so that the time-complexity more directly follows from the inverse of the 'success' probability."
   ],
   "metadata": {
    "collapsed": false
   },
   "id": "b633ff0b9322363d"
  },
  {
   "cell_type": "markdown",
   "source": [
    "## Attentive Pre-training\n",
    "\n",
    "An issue with the previous analysis is that we pre-train on a single problem instance, but this leaves us a little too open to fluctuation and so makes our relationship between the scaling parameter $\\alpha$ and the number of ansatz layers $p$. Therefore, we will conduct a more rigorous pre-training process using a held-out `test' set to evaluate the parameters and decide on a more generally applicable assignment. \n",
    "\n",
    "Nothing fancy; no need for cross-validation. We'll just give it a few training example to come up with a few assignment options, pick the best one when used on a few unseen test examples. We could then call it done there, or we could iterate this process by returning the training part with the best parameter assignment so far as the starting guess.\n",
    "\n",
    "This pre-training scheme could allow us to play around with the idea of instance independence even more by training the parameters over instances of different sizes. Whereas previously we had trained at a fixed bit-length and used those parameters, maybe it would be a better idea to train over randomly sampled instances of bounded bit-length to allow the parameters to be truly problem independent. "
   ],
   "metadata": {
    "collapsed": false
   },
   "id": "eb473dc4841f865b"
  },
  {
   "cell_type": "code",
   "execution_count": 52,
   "outputs": [],
   "source": [
    "def find_fixed_angles(\n",
    "        p : int, l : int, c : int, delta : float = .75, min_method : str = 'Nelder-Mead', epochs : int = 1, train_batch_size : int = 10, val_instances : int = 20, val_bit_length_set : np.array = np.arange(start=8, stop=129, step=8), problem_size_independence : bool = True, pretrain_bit_length : int = -1, seed : int = 42, verbose : bool = False, progress_bars : bool = False\n",
    "):\n",
    "    '''\n",
    "    Main loop to find an assignment of angles to fix in a QAOA circuit with p ansantz layers.\n",
    "    \n",
    "    :param p: Number of ansatz layers (i.e. control on the depth of the QAOA circuit).\n",
    "    :param l: Lattice parameter (recommended in {1, 2}).\n",
    "    :param c: Precision parameter (conjectured to be positively correlated with probability to find smooth relation pairs).\n",
    "    \n",
    "    :param delta: Delta parameter for LLL reduction.\n",
    "    :param min_method: Minimisation algorithm for finding an 'optimal' parameter assignment in each CVP.\n",
    "    \n",
    "    :param epochs: Number of training loops to look for parameters by researching around best guests.\n",
    "    :param train_batch_size: Number of problem instances to train with in each epoch.\n",
    "    :param val_instances: Number of problem instances to validate with at each bit-length in each epoch.\n",
    "    :param val_bit_length_set: Range of bit-lengths to use in validation.\n",
    "    :param problem_size_independence: Whether to fix pre-training bit-length or allow random problem sampling.\n",
    "    :param pretrain_bit_length: The fixed bit-length problem (ignored if allowing random problem sampling).\n",
    "    \n",
    "    :param seed: Seed for random number generation.\n",
    "    :param verbose: Whether to display epoch statistics at runtime (also whether to show epoch progress bar).\n",
    "    :param progress_bars: Whether to display progress bars (except epoch progress bar, which is controlled by verbose).\n",
    "    \n",
    "    :return: cirq.ParamResolver object assigning 'optimal' values to the parameters of a p-deep QAOA.\n",
    "    '''\n",
    "    \n",
    "    # Validity checks.\n",
    "    assert p > 0, 'Number of ansatz layers must be a positive integer.'\n",
    "    assert epochs > 0, 'Number of epochs must be a positive integer'\n",
    "    assert train_batch_size > 0 and val_instances > 0, 'Batch sizes must be positive integers (yes, you must validate).'\n",
    "    assert problem_size_independence or (not pretrain_bit_length and pretrain_bit_length > 0), 'If not using problem independent sampling, then pass a valid pre-train bit-length (i.e. positive integer).'\n",
    "    assert problem_size_independence or 8 <= pretrain_bit_length <= 128, 'Please constrain your pre-train bit-length to [8, 128].'\n",
    "    \n",
    "    # Initialise.\n",
    "    np.random.seed(seed)\n",
    "    optimal_assignment = None\n",
    "    best_alpha = np.inf\n",
    "    n_bits = pretrain_bit_length\n",
    "    val_stats = {}\n",
    "    \n",
    "    # Epoch loop.\n",
    "    for epoch_idx in (tqdm(range(1, epochs + 1), desc='Epochs') if verbose else range(1, epochs + 1)):\n",
    "        # Time keeping.\n",
    "        tic = time.perf_counter()\n",
    "        \n",
    "        # Remember the parameter assignments found in this epoch.\n",
    "        found_assignments = []\n",
    "        \n",
    "        # Training loop.\n",
    "        for _ in (tqdm(range(train_batch_size), desc='Training') if progress_bars else range(train_batch_size)):\n",
    "            # Determine the bit-length for the training instance.\n",
    "            if problem_size_independence: n_bits = np.random.randint(low=8, high=128)\n",
    "            \n",
    "            # Set up a CVP.\n",
    "            cvp = CVP()\n",
    "            cvp.generate_cvp(N=number.getPrime(n_bits), l=l, c=c)\n",
    "            \n",
    "            # Set up the initial guess x0.\n",
    "            if optimal_assignment is not None: x0 = np.asarray(list(optimal_assignment.param_dict.values()))\n",
    "            else: x0 = None\n",
    "            \n",
    "            # Solve it and remember the assignments.\n",
    "            _, _, _, param_assignments = solve_cvp(cvp, n_samples=1, delta=delta, p=p, x0=x0, min_method=min_method, verbose=False)\n",
    "            found_assignments.append(param_assignments)\n",
    "            \n",
    "        # Validate each assignment to uncover whether we have a new best.\n",
    "        # Validation will be given by the scaling of the probability to sample v_best, with a smaller alpha being better.\n",
    "        alphas = []\n",
    "        for assignment in (tqdm(found_assignments, desc='Validating') if progress_bars else found_assignments):\n",
    "            # Remember the probabilities and (exact) lattice dimensions for this assignment.\n",
    "            v_best_probs, lattice_dims = [], []\n",
    "            for n_bits in (tqdm(val_bit_length_set, desc='Validation Bit-length') if progress_bars else val_bit_length_set):\n",
    "                for _ in range(val_instances):\n",
    "                    # Set up a CVP.\n",
    "                    N = number.getPrime(int(n_bits))\n",
    "                    cvp = CVP()\n",
    "                    cvp.generate_cvp(N, l=l, c=c)\n",
    "                    \n",
    "                    # Solve it.\n",
    "                    vs, probs, _, _ = solve_cvp(cvp, n_samples=10000, delta=delta, p=p, min_method=min_method, optimal_parameters=assignment, verbose=False)\n",
    "                    \n",
    "                    # Determine the probability to sample the best solution.\n",
    "                    best_dist_to_target = np.inf\n",
    "                    best_prob = 0\n",
    "                    for v_new, prob in zip(vs, probs):\n",
    "                        dist_to_target = np.linalg.norm(v_new - cvp.t)\n",
    "                        \n",
    "                        if dist_to_target < best_dist_to_target:\n",
    "                            best_dist_to_target = dist_to_target\n",
    "                            best_prob = prob\n",
    "                            \n",
    "                    # Add to the arrays.\n",
    "                    v_best_probs.append(best_prob)\n",
    "                    lattice_dims.append(l * log2(N) / log2(log2(N)))\n",
    "                \n",
    "            # Compute the scaling for the assignment.\n",
    "            alpha = curve_fit(scaling_function, xdata=lattice_dims, ydata=v_best_probs)[0][0]\n",
    "            alphas.append(alpha)\n",
    "            \n",
    "        # Time keeping.\n",
    "        toc = time.perf_counter()\n",
    "            \n",
    "        # Epoch statistics.\n",
    "        min_alpha = min(alphas)\n",
    "        mean_alpha = np.mean(alphas)\n",
    "        std_alpha = np.std(alphas)\n",
    "        max_alpha = max(alphas)\n",
    "        runtime = toc - tic\n",
    "        epoch_stats = [min_alpha, mean_alpha, std_alpha, max_alpha, runtime]\n",
    "        val_stats[epoch_idx] = epoch_stats\n",
    "        \n",
    "        # Write the statistics if requested.\n",
    "        if verbose:\n",
    "            print(f'Epoch {epoch_idx:02d} ({int(runtime):04d} s): min - {min_alpha:.3f}, mean - {mean_alpha:.3f}, std - {std_alpha:.3f}, max - {max_alpha:.3f}')\n",
    "            \n",
    "        # Update best if necessary.\n",
    "        if min(alphas) < best_alpha:\n",
    "            best_alpha = min(alphas)\n",
    "            optimal_assignment = found_assignments[np.argmin(alphas)]\n",
    "            \n",
    "    return optimal_assignment, best_alpha, val_stats"
   ],
   "metadata": {
    "collapsed": false,
    "ExecuteTime": {
     "end_time": "2024-02-06T23:08:40.932655100Z",
     "start_time": "2024-02-06T23:08:40.876392700Z"
    }
   },
   "id": "807aa35855e3f009"
  },
  {
   "cell_type": "code",
   "execution_count": 53,
   "outputs": [
    {
     "data": {
      "text/plain": "Epochs:   0%|          | 0/3 [00:00<?, ?it/s]",
      "application/vnd.jupyter.widget-view+json": {
       "version_major": 2,
       "version_minor": 0,
       "model_id": "e06d5d2dcd18462c93744bc9e13d52fb"
      }
     },
     "metadata": {},
     "output_type": "display_data"
    },
    {
     "name": "stdout",
     "output_type": "stream",
     "text": [
      "Epoch 01 (0469 s): min - 0.549, mean - 0.581, std - 0.038, max - 0.650\n",
      "Epoch 02 (0461 s): min - 0.510, mean - 0.590, std - 0.051, max - 0.661\n",
      "Epoch 03 (0435 s): min - 0.540, mean - 0.584, std - 0.032, max - 0.656\n"
     ]
    }
   ],
   "source": [
    "optimal_assignment, best_alpha, val_stats = find_fixed_angles(p=1, l=1, c=3, train_batch_size=10, epochs=3, val_instances=20, verbose=True, progress_bars=False)"
   ],
   "metadata": {
    "collapsed": false,
    "ExecuteTime": {
     "end_time": "2024-02-06T23:31:32.632923400Z",
     "start_time": "2024-02-06T23:08:45.082378300Z"
    }
   },
   "id": "2d318f46cd916b41"
  },
  {
   "cell_type": "code",
   "execution_count": 59,
   "outputs": [
    {
     "name": "stdout",
     "output_type": "stream",
     "text": [
      "For p = 1...\n"
     ]
    },
    {
     "data": {
      "text/plain": "Epochs:   0%|          | 0/5 [00:00<?, ?it/s]",
      "application/vnd.jupyter.widget-view+json": {
       "version_major": 2,
       "version_minor": 0,
       "model_id": "6fd8513487b141cd878a23a269f6995b"
      }
     },
     "metadata": {},
     "output_type": "display_data"
    },
    {
     "name": "stdout",
     "output_type": "stream",
     "text": [
      "Epoch 01 (0117 s): min - 0.509, mean - 0.549, std - 0.037, max - 0.606\n",
      "Epoch 02 (0111 s): min - 0.534, mean - 0.598, std - 0.054, max - 0.691\n",
      "Epoch 03 (0125 s): min - 0.511, mean - 0.582, std - 0.046, max - 0.646\n",
      "Epoch 04 (0111 s): min - 0.524, mean - 0.576, std - 0.031, max - 0.615\n",
      "Epoch 05 (0112 s): min - 0.552, mean - 0.586, std - 0.020, max - 0.609\n",
      "Best parameters yielded a scaling of 0.509\n",
      "\n",
      "For p = 2...\n"
     ]
    },
    {
     "data": {
      "text/plain": "Epochs:   0%|          | 0/5 [00:00<?, ?it/s]",
      "application/vnd.jupyter.widget-view+json": {
       "version_major": 2,
       "version_minor": 0,
       "model_id": "3edcf67f1b004ebfbccf3fa38605d244"
      }
     },
     "metadata": {},
     "output_type": "display_data"
    },
    {
     "name": "stdout",
     "output_type": "stream",
     "text": [
      "Epoch 01 (0243 s): min - 0.418, mean - 0.516, std - 0.052, max - 0.570\n",
      "Epoch 02 (0181 s): min - 0.341, mean - 0.398, std - 0.033, max - 0.442\n",
      "Epoch 03 (0215 s): min - 0.368, mean - 0.401, std - 0.038, max - 0.471\n",
      "Epoch 04 (0173 s): min - 0.374, mean - 0.443, std - 0.073, max - 0.566\n",
      "Epoch 05 (0166 s): min - 0.362, mean - 0.408, std - 0.045, max - 0.485\n",
      "Best parameters yielded a scaling of 0.341\n",
      "\n",
      "For p = 3...\n"
     ]
    },
    {
     "data": {
      "text/plain": "Epochs:   0%|          | 0/5 [00:00<?, ?it/s]",
      "application/vnd.jupyter.widget-view+json": {
       "version_major": 2,
       "version_minor": 0,
       "model_id": "b050f99a62de43559af8da6a0fa5dc01"
      }
     },
     "metadata": {},
     "output_type": "display_data"
    },
    {
     "name": "stdout",
     "output_type": "stream",
     "text": [
      "Epoch 01 (0461 s): min - 0.517, mean - 0.593, std - 0.061, max - 0.690\n",
      "Epoch 02 (0285 s): min - 0.356, mean - 0.412, std - 0.037, max - 0.467\n",
      "Epoch 03 (0362 s): min - 0.338, mean - 0.391, std - 0.038, max - 0.453\n",
      "Epoch 04 (0244 s): min - 0.390, mean - 0.461, std - 0.079, max - 0.594\n",
      "Epoch 05 (0277 s): min - 0.370, mean - 0.396, std - 0.027, max - 0.444\n",
      "Best parameters yielded a scaling of 0.338\n",
      "\n",
      "For p = 4...\n"
     ]
    },
    {
     "data": {
      "text/plain": "Epochs:   0%|          | 0/5 [00:00<?, ?it/s]",
      "application/vnd.jupyter.widget-view+json": {
       "version_major": 2,
       "version_minor": 0,
       "model_id": "864e5e5b09124ec99b223995beca20cd"
      }
     },
     "metadata": {},
     "output_type": "display_data"
    },
    {
     "name": "stdout",
     "output_type": "stream",
     "text": [
      "Epoch 01 (1093 s): min - 0.542, mean - 0.563, std - 0.018, max - 0.592\n",
      "Epoch 02 (0608 s): min - 0.511, mean - 0.554, std - 0.047, max - 0.640\n",
      "Epoch 03 (0588 s): min - 0.373, mean - 0.524, std - 0.258, max - 1.039\n",
      "Epoch 04 (0628 s): min - 0.346, mean - 0.409, std - 0.048, max - 0.481\n",
      "Epoch 05 (0334 s): min - 0.366, mean - 0.504, std - 0.225, max - 0.953\n",
      "Best parameters yielded a scaling of 0.346\n",
      "\n",
      "For p = 5...\n"
     ]
    },
    {
     "data": {
      "text/plain": "Epochs:   0%|          | 0/5 [00:00<?, ?it/s]",
      "application/vnd.jupyter.widget-view+json": {
       "version_major": 2,
       "version_minor": 0,
       "model_id": "6086fcd73a4d4ba6bccb71a4bf19394c"
      }
     },
     "metadata": {},
     "output_type": "display_data"
    },
    {
     "name": "stdout",
     "output_type": "stream",
     "text": [
      "Epoch 01 (0741 s): min - 0.454, mean - 0.644, std - 0.164, max - 0.902\n",
      "Epoch 02 (1152 s): min - 0.317, mean - 0.374, std - 0.087, max - 0.547\n",
      "Epoch 03 (0592 s): min - 0.293, mean - 0.534, std - 0.293, max - 1.066\n",
      "Epoch 04 (0952 s): min - 0.265, mean - 0.307, std - 0.029, max - 0.352\n",
      "Epoch 05 (0843 s): min - 0.292, mean - 0.391, std - 0.116, max - 0.574\n",
      "Best parameters yielded a scaling of 0.265\n",
      "\n",
      "For p = 6...\n"
     ]
    },
    {
     "data": {
      "text/plain": "Epochs:   0%|          | 0/5 [00:00<?, ?it/s]",
      "application/vnd.jupyter.widget-view+json": {
       "version_major": 2,
       "version_minor": 0,
       "model_id": "7cf194f13a3f4fe2b6eceffd06535d5a"
      }
     },
     "metadata": {},
     "output_type": "display_data"
    },
    {
     "name": "stdout",
     "output_type": "stream",
     "text": [
      "Epoch 01 (2074 s): min - 0.369, mean - 0.451, std - 0.064, max - 0.562\n",
      "Epoch 02 (1132 s): min - 0.379, mean - 0.408, std - 0.047, max - 0.502\n",
      "Epoch 03 (1535 s): min - 0.391, mean - 0.414, std - 0.025, max - 0.453\n",
      "Epoch 04 (1364 s): min - 0.359, mean - 0.378, std - 0.020, max - 0.416\n",
      "Epoch 05 (1000 s): min - 0.366, mean - 0.396, std - 0.035, max - 0.460\n",
      "Best parameters yielded a scaling of 0.359\n",
      "\n",
      "For p = 7...\n"
     ]
    },
    {
     "data": {
      "text/plain": "Epochs:   0%|          | 0/5 [00:00<?, ?it/s]",
      "application/vnd.jupyter.widget-view+json": {
       "version_major": 2,
       "version_minor": 0,
       "model_id": "549baeb42eeb41f98906e352b366a0a4"
      }
     },
     "metadata": {},
     "output_type": "display_data"
    },
    {
     "name": "stdout",
     "output_type": "stream",
     "text": [
      "Epoch 01 (3011 s): min - 0.367, mean - 0.467, std - 0.063, max - 0.545\n",
      "Epoch 02 (1228 s): min - 0.396, mean - 0.587, std - 0.232, max - 0.911\n",
      "Epoch 03 (1309 s): min - 0.381, mean - 0.423, std - 0.048, max - 0.513\n",
      "Epoch 04 (1824 s): min - 0.358, mean - 0.479, std - 0.193, max - 0.863\n",
      "Epoch 05 (1324 s): min - 0.338, mean - 0.507, std - 0.263, max - 1.032\n",
      "Best parameters yielded a scaling of 0.338\n",
      "\n",
      "For p = 8...\n"
     ]
    },
    {
     "data": {
      "text/plain": "Epochs:   0%|          | 0/5 [00:00<?, ?it/s]",
      "application/vnd.jupyter.widget-view+json": {
       "version_major": 2,
       "version_minor": 0,
       "model_id": "3c8d22ddf5304587b00dba991ade9d19"
      }
     },
     "metadata": {},
     "output_type": "display_data"
    },
    {
     "name": "stdout",
     "output_type": "stream",
     "text": [
      "Epoch 01 (3553 s): min - 0.393, mean - 0.455, std - 0.043, max - 0.515\n",
      "Epoch 02 (2722 s): min - 0.282, mean - 0.342, std - 0.092, max - 0.524\n",
      "Epoch 03 (1219 s): min - 0.295, mean - 0.319, std - 0.033, max - 0.385\n",
      "Epoch 04 (1846 s): min - 0.301, mean - 0.342, std - 0.060, max - 0.459\n",
      "Epoch 05 (1066 s): min - 0.296, mean - 0.327, std - 0.030, max - 0.384\n",
      "Best parameters yielded a scaling of 0.282\n",
      "\n",
      "For p = 9...\n"
     ]
    },
    {
     "data": {
      "text/plain": "Epochs:   0%|          | 0/5 [00:00<?, ?it/s]",
      "application/vnd.jupyter.widget-view+json": {
       "version_major": 2,
       "version_minor": 0,
       "model_id": "a88df4a6c2e84ac5a94cb691dc1e4a6f"
      }
     },
     "metadata": {},
     "output_type": "display_data"
    },
    {
     "name": "stdout",
     "output_type": "stream",
     "text": [
      "Epoch 01 (2737 s): min - 0.316, mean - 0.599, std - 0.288, max - 1.119\n",
      "Epoch 02 (2327 s): min - 0.283, mean - 0.394, std - 0.132, max - 0.621\n",
      "Epoch 03 (3904 s): min - 0.218, mean - 0.260, std - 0.038, max - 0.326\n",
      "Epoch 04 (2641 s): min - 0.217, mean - 0.313, std - 0.148, max - 0.608\n",
      "Epoch 05 (2228 s): min - 0.216, mean - 0.269, std - 0.082, max - 0.432\n",
      "Best parameters yielded a scaling of 0.216\n",
      "\n",
      "For p = 10...\n"
     ]
    },
    {
     "data": {
      "text/plain": "Epochs:   0%|          | 0/5 [00:00<?, ?it/s]",
      "application/vnd.jupyter.widget-view+json": {
       "version_major": 2,
       "version_minor": 0,
       "model_id": "5674abf8e85f483ea9fe5b2a9a2041b7"
      }
     },
     "metadata": {},
     "output_type": "display_data"
    },
    {
     "name": "stdout",
     "output_type": "stream",
     "text": [
      "Epoch 01 (7391 s): min - 0.386, mean - 0.423, std - 0.037, max - 0.470\n",
      "Epoch 02 (6723 s): min - 0.239, mean - 0.315, std - 0.114, max - 0.541\n",
      "Epoch 03 (2226 s): min - 0.241, mean - 0.257, std - 0.017, max - 0.290\n",
      "Epoch 04 (3637 s): min - 0.244, mean - 0.264, std - 0.024, max - 0.306\n",
      "Epoch 05 (2537 s): min - 0.241, mean - 0.395, std - 0.258, max - 0.907\n",
      "Best parameters yielded a scaling of 0.239\n"
     ]
    }
   ],
   "source": [
    "# Determining optimal assignments at each depth p.\n",
    "assignments = []\n",
    "for p in range(1, 11):\n",
    "    print(f'For p = {p}...')\n",
    "    optimal_assignment, best_alpha, _ = find_fixed_angles(p=p, l=1, c=3, train_batch_size=5, epochs=5, val_instances=10, verbose=True, progress_bars=False)\n",
    "    print(f'Best parameters yielded a scaling of {best_alpha:.3f}\\n')\n",
    "    \n",
    "    assignments.append(optimal_assignment)"
   ],
   "metadata": {
    "collapsed": false,
    "ExecuteTime": {
     "end_time": "2024-02-07T20:45:02.364767Z",
     "start_time": "2024-02-07T00:23:26.303680200Z"
    }
   },
   "id": "47fbefaac56def2c"
  },
  {
   "cell_type": "code",
   "execution_count": 62,
   "outputs": [
    {
     "name": "stdout",
     "output_type": "stream",
     "text": [
      "1 cirq.ParamResolver({'beta_0': 0.37863725752374056, 'gamma_0': -0.007007119490716059})\n",
      "\n",
      "2 cirq.ParamResolver({'beta_0': 0.4027136292725694, 'beta_1': 0.22164073885918953, 'gamma_0': -0.006938897376938344, 'gamma_1': -0.015730089580692504})\n",
      "\n",
      "3 cirq.ParamResolver({'beta_0': 0.40302188069944495, 'beta_1': 0.2061230924935798, 'beta_2': 0.0021894918033828654, 'gamma_0': -0.005722690814994635, 'gamma_1': -0.014116681371384802, 'gamma_2': -0.32628410500005445})\n",
      "\n",
      "4 cirq.ParamResolver({'beta_0': 0.6946025302634022, 'beta_1': -0.2584046487922138, 'beta_2': 0.16008561329877763, 'beta_3': -1.7706569772630223e-05, 'gamma_0': -0.005886060627310522, 'gamma_1': 0.004291241103993117, 'gamma_2': -0.021211832688352757, 'gamma_3': 120.0323653051241})\n",
      "\n",
      "5 cirq.ParamResolver({'beta_0': -0.6213948714182078, 'beta_1': -0.15303329560224824, 'beta_2': 0.3108770241901506, 'beta_3': 0.1322233057567423, 'beta_4': -0.09198224315695477, 'gamma_0': 0.004113996558672622, 'gamma_1': 0.009652553041509266, 'gamma_2': -0.018947319167237225, 'gamma_3': -0.018273759870403077, 'gamma_4': 0.02818903544554053})\n",
      "\n",
      "6 cirq.ParamResolver({'beta_0': 0.00397974793044205, 'beta_1': 0.4195610041031054, 'beta_2': 0.00742920794779741, 'beta_3': 0.259347419242107, 'beta_4': 0.009771928972736063, 'beta_5': 0.019373512634928265, 'gamma_0': 0.2334840849260656, 'gamma_1': -0.24030712013724992, 'gamma_2': -0.1966600061349406, 'gamma_3': 0.18199577742869336, 'gamma_4': -0.2823226557269217, 'gamma_5': -0.008360106750787695})\n",
      "\n",
      "7 cirq.ParamResolver({'beta_0': 0.11419313376966055, 'beta_1': -0.3085865289097993, 'beta_2': 0.008607120737786344, 'beta_3': -0.007146834973890237, 'beta_4': -0.2362378178850622, 'beta_5': -0.003300616443860974, 'beta_6': -0.01735580250413575, 'gamma_0': -0.007242961180021093, 'gamma_1': 0.016347076246241182, 'gamma_2': 0.021293932675743053, 'gamma_3': 0.1811179579382181, 'gamma_4': -0.1855918771967099, 'gamma_5': -0.2014916434805148, 'gamma_6': 0.35216107942553604})\n",
      "\n",
      "8 cirq.ParamResolver({'beta_0': 0.0023822523540279424, 'beta_1': 0.4024806190010926, 'beta_2': -0.0011051829772273053, 'beta_3': -0.0029082622004092187, 'beta_4': 0.2579002916105251, 'beta_5': 0.1343164966836331, 'beta_6': -0.0066758176525264995, 'beta_7': 0.012217369821339438, 'gamma_0': 0.1844461066032212, 'gamma_1': -0.19001704418388085, 'gamma_2': -0.080534336845075, 'gamma_3': 0.03389548565346236, 'gamma_4': 0.03456403802758101, 'gamma_5': -0.019742690522504033, 'gamma_6': -0.4072433554153936, 'gamma_7': -0.021959549853296692})\n",
      "\n",
      "9 cirq.ParamResolver({'beta_0': 0.45954603726611504, 'beta_1': 0.3346564968729288, 'beta_2': -0.0016175672871773339, 'beta_3': 0.21075368117431523, 'beta_4': -0.009863069401117128, 'beta_5': 0.1480832030953662, 'beta_6': -0.002361595863247799, 'beta_7': 0.003625857445047736, 'beta_8': 0.09757850916056794, 'gamma_0': -0.004656859752125184, 'gamma_1': -0.009522721112556306, 'gamma_2': -0.11106344220266118, 'gamma_3': 0.09739110119943484, 'gamma_4': -0.045992012659521166, 'gamma_5': 0.02939150985827914, 'gamma_6': -0.015463904704006897, 'gamma_7': -0.1020269925729701, 'gamma_8': 0.0978199205326985})\n",
      "\n",
      "10 cirq.ParamResolver({'beta_0': -0.006435500891203573, 'beta_1': -0.12095803749601844, 'beta_2': -0.005903827974088756, 'beta_3': -0.0018724481160421443, 'beta_4': 0.5047367850289116, 'beta_5': 0.11716916821745377, 'beta_6': -0.2003832318202193, 'beta_7': -0.05144445072629327, 'beta_8': 0.13122315169833154, 'beta_9': 0.08812539367665792, 'gamma_0': -0.011294489668738208, 'gamma_1': 0.018178421522909022, 'gamma_2': -0.02708872800689845, 'gamma_3': 0.015041189582275277, 'gamma_4': -0.003003118528594284, 'gamma_5': -0.009090435809323307, 'gamma_6': 0.01426331572908615, 'gamma_7': 0.01893024372428039, 'gamma_8': -0.04288328316076524, 'gamma_9': -0.02572640263721905})\n"
     ]
    }
   ],
   "source": [
    "for p, assignment in enumerate(assignments):\n",
    "    print(p+1, assignment)\n",
    "    print()"
   ],
   "metadata": {
    "collapsed": false,
    "ExecuteTime": {
     "end_time": "2024-02-07T21:50:40.761677300Z",
     "start_time": "2024-02-07T21:50:40.679167400Z"
    }
   },
   "id": "4492b698160752df"
  },
  {
   "cell_type": "code",
   "execution_count": 73,
   "outputs": [],
   "source": [
    "# Save the optimal assignment dictionaries to files.\n",
    "for p, assignment in enumerate(assignments):\n",
    "    # Get the dictionary object assigning values to each parameter.\n",
    "    param_dict = assignment.param_dict\n",
    "    \n",
    "    # Save the dictionary.\n",
    "    with open(f'./results/pre-train-parameter-assignments/p={p+1}.pkl', 'wb') as file:\n",
    "        pickle.dump(param_dict, file)"
   ],
   "metadata": {
    "collapsed": false,
    "ExecuteTime": {
     "end_time": "2024-02-07T22:10:36.581021200Z",
     "start_time": "2024-02-07T22:10:36.536020500Z"
    }
   },
   "id": "7975a855230d0071"
  },
  {
   "cell_type": "code",
   "execution_count": 76,
   "outputs": [
    {
     "data": {
      "text/plain": "cirq.ParamResolver({'beta_0': -0.6213948714182078, 'beta_1': -0.15303329560224824, 'beta_2': 0.3108770241901506, 'beta_3': 0.1322233057567423, 'beta_4': -0.09198224315695477, 'gamma_0': 0.004113996558672622, 'gamma_1': 0.009652553041509266, 'gamma_2': -0.018947319167237225, 'gamma_3': -0.018273759870403077, 'gamma_4': 0.02818903544554053})"
     },
     "execution_count": 76,
     "metadata": {},
     "output_type": "execute_result"
    }
   ],
   "source": [
    "# Demonstration loading of the pickled parameter assignments.\n",
    "with open(f'./results/pre-train-parameter-assignments/p={5}.pkl', 'rb') as file:\n",
    "    loaded_param_dict = pickle.load(file)\n",
    "    \n",
    "example_assignment = cirq.ParamResolver(loaded_param_dict)\n",
    "example_assignment"
   ],
   "metadata": {
    "collapsed": false,
    "ExecuteTime": {
     "end_time": "2024-02-07T22:11:03.657114700Z",
     "start_time": "2024-02-07T22:11:03.596598800Z"
    }
   },
   "id": "dbd908ba457ea02d"
  },
  {
   "cell_type": "markdown",
   "source": [
    "## Considering Worst-cases\n",
    "\n",
    "Because the average scaling may not be so interesting, we consider how well the best 10% of QAOA runs scale so as to get an idea for the worst-case requirements to make the CVP secure against this kind of attack (e.g. if an attacker gets lucky, what kind of scaling might they get?)."
   ],
   "metadata": {
    "collapsed": false
   },
   "id": "1cc0aec904eea05d"
  }
 ],
 "metadata": {
  "kernelspec": {
   "display_name": "Python 3",
   "language": "python",
   "name": "python3"
  },
  "language_info": {
   "codemirror_mode": {
    "name": "ipython",
    "version": 2
   },
   "file_extension": ".py",
   "mimetype": "text/x-python",
   "name": "python",
   "nbconvert_exporter": "python",
   "pygments_lexer": "ipython2",
   "version": "2.7.6"
  }
 },
 "nbformat": 4,
 "nbformat_minor": 5
}
